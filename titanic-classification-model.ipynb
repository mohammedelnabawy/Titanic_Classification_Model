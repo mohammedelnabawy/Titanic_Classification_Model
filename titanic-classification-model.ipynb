{
 "cells": [
  {
   "cell_type": "code",
   "execution_count": 1,
   "id": "d5b8fe80",
   "metadata": {
    "_cell_guid": "b1076dfc-b9ad-4769-8c92-a6c4dae69d19",
    "_uuid": "8f2839f25d086af736a60e9eeb907d3b93b6e0e5",
    "execution": {
     "iopub.execute_input": "2021-09-20T21:12:40.835547Z",
     "iopub.status.busy": "2021-09-20T21:12:40.834565Z",
     "iopub.status.idle": "2021-09-20T21:12:42.027614Z",
     "shell.execute_reply": "2021-09-20T21:12:42.028214Z",
     "shell.execute_reply.started": "2021-09-20T21:08:23.364069Z"
    },
    "papermill": {
     "duration": 1.263658,
     "end_time": "2021-09-20T21:12:42.028492",
     "exception": false,
     "start_time": "2021-09-20T21:12:40.764834",
     "status": "completed"
    },
    "tags": []
   },
   "outputs": [],
   "source": [
    "from sklearn.linear_model import LogisticRegression\n",
    "from sklearn.svm import SVC\n",
    "from sklearn.tree import DecisionTreeClassifier\n",
    "from sklearn.ensemble import RandomForestClassifier\n",
    "from sklearn.ensemble import VotingClassifier\n",
    "import pandas as pd\n",
    "import numpy as np\n",
    "import matplotlib.pyplot as plt\n",
    "%matplotlib inline\n",
    "import seaborn as sns\n",
    "from sklearn.model_selection import train_test_split\n",
    "from sklearn.preprocessing import PolynomialFeatures\n",
    "from sklearn.metrics import confusion_matrix, accuracy_score, classification_report\n",
    "from warnings import filterwarnings\n",
    "filterwarnings('ignore')"
   ]
  },
  {
   "cell_type": "markdown",
   "id": "26e9987f",
   "metadata": {
    "papermill": {
     "duration": 0.048323,
     "end_time": "2021-09-20T21:12:42.125135",
     "exception": false,
     "start_time": "2021-09-20T21:12:42.076812",
     "status": "completed"
    },
    "tags": []
   },
   "source": [
    "# **Loading train and Data**\n"
   ]
  },
  {
   "cell_type": "code",
   "execution_count": 2,
   "id": "8dbda3d8",
   "metadata": {
    "execution": {
     "iopub.execute_input": "2021-09-20T21:12:42.224247Z",
     "iopub.status.busy": "2021-09-20T21:12:42.223368Z",
     "iopub.status.idle": "2021-09-20T21:12:42.258104Z",
     "shell.execute_reply": "2021-09-20T21:12:42.258532Z",
     "shell.execute_reply.started": "2021-09-20T21:10:28.784302Z"
    },
    "papermill": {
     "duration": 0.086121,
     "end_time": "2021-09-20T21:12:42.258706",
     "exception": false,
     "start_time": "2021-09-20T21:12:42.172585",
     "status": "completed"
    },
    "tags": []
   },
   "outputs": [
    {
     "data": {
      "text/html": [
       "<div>\n",
       "<style scoped>\n",
       "    .dataframe tbody tr th:only-of-type {\n",
       "        vertical-align: middle;\n",
       "    }\n",
       "\n",
       "    .dataframe tbody tr th {\n",
       "        vertical-align: top;\n",
       "    }\n",
       "\n",
       "    .dataframe thead th {\n",
       "        text-align: right;\n",
       "    }\n",
       "</style>\n",
       "<table border=\"1\" class=\"dataframe\">\n",
       "  <thead>\n",
       "    <tr style=\"text-align: right;\">\n",
       "      <th></th>\n",
       "      <th>PassengerId</th>\n",
       "      <th>Survived</th>\n",
       "      <th>Pclass</th>\n",
       "      <th>Name</th>\n",
       "      <th>Sex</th>\n",
       "      <th>Age</th>\n",
       "      <th>SibSp</th>\n",
       "      <th>Parch</th>\n",
       "      <th>Ticket</th>\n",
       "      <th>Fare</th>\n",
       "      <th>Cabin</th>\n",
       "      <th>Embarked</th>\n",
       "    </tr>\n",
       "  </thead>\n",
       "  <tbody>\n",
       "    <tr>\n",
       "      <th>0</th>\n",
       "      <td>1</td>\n",
       "      <td>0</td>\n",
       "      <td>3</td>\n",
       "      <td>Braund, Mr. Owen Harris</td>\n",
       "      <td>male</td>\n",
       "      <td>22.0</td>\n",
       "      <td>1</td>\n",
       "      <td>0</td>\n",
       "      <td>A/5 21171</td>\n",
       "      <td>7.2500</td>\n",
       "      <td>NaN</td>\n",
       "      <td>S</td>\n",
       "    </tr>\n",
       "    <tr>\n",
       "      <th>1</th>\n",
       "      <td>2</td>\n",
       "      <td>1</td>\n",
       "      <td>1</td>\n",
       "      <td>Cumings, Mrs. John Bradley (Florence Briggs Th...</td>\n",
       "      <td>female</td>\n",
       "      <td>38.0</td>\n",
       "      <td>1</td>\n",
       "      <td>0</td>\n",
       "      <td>PC 17599</td>\n",
       "      <td>71.2833</td>\n",
       "      <td>C85</td>\n",
       "      <td>C</td>\n",
       "    </tr>\n",
       "    <tr>\n",
       "      <th>2</th>\n",
       "      <td>3</td>\n",
       "      <td>1</td>\n",
       "      <td>3</td>\n",
       "      <td>Heikkinen, Miss. Laina</td>\n",
       "      <td>female</td>\n",
       "      <td>26.0</td>\n",
       "      <td>0</td>\n",
       "      <td>0</td>\n",
       "      <td>STON/O2. 3101282</td>\n",
       "      <td>7.9250</td>\n",
       "      <td>NaN</td>\n",
       "      <td>S</td>\n",
       "    </tr>\n",
       "    <tr>\n",
       "      <th>3</th>\n",
       "      <td>4</td>\n",
       "      <td>1</td>\n",
       "      <td>1</td>\n",
       "      <td>Futrelle, Mrs. Jacques Heath (Lily May Peel)</td>\n",
       "      <td>female</td>\n",
       "      <td>35.0</td>\n",
       "      <td>1</td>\n",
       "      <td>0</td>\n",
       "      <td>113803</td>\n",
       "      <td>53.1000</td>\n",
       "      <td>C123</td>\n",
       "      <td>S</td>\n",
       "    </tr>\n",
       "    <tr>\n",
       "      <th>4</th>\n",
       "      <td>5</td>\n",
       "      <td>0</td>\n",
       "      <td>3</td>\n",
       "      <td>Allen, Mr. William Henry</td>\n",
       "      <td>male</td>\n",
       "      <td>35.0</td>\n",
       "      <td>0</td>\n",
       "      <td>0</td>\n",
       "      <td>373450</td>\n",
       "      <td>8.0500</td>\n",
       "      <td>NaN</td>\n",
       "      <td>S</td>\n",
       "    </tr>\n",
       "  </tbody>\n",
       "</table>\n",
       "</div>"
      ],
      "text/plain": [
       "   PassengerId  Survived  Pclass  \\\n",
       "0            1         0       3   \n",
       "1            2         1       1   \n",
       "2            3         1       3   \n",
       "3            4         1       1   \n",
       "4            5         0       3   \n",
       "\n",
       "                                                Name     Sex   Age  SibSp  \\\n",
       "0                            Braund, Mr. Owen Harris    male  22.0      1   \n",
       "1  Cumings, Mrs. John Bradley (Florence Briggs Th...  female  38.0      1   \n",
       "2                             Heikkinen, Miss. Laina  female  26.0      0   \n",
       "3       Futrelle, Mrs. Jacques Heath (Lily May Peel)  female  35.0      1   \n",
       "4                           Allen, Mr. William Henry    male  35.0      0   \n",
       "\n",
       "   Parch            Ticket     Fare Cabin Embarked  \n",
       "0      0         A/5 21171   7.2500   NaN        S  \n",
       "1      0          PC 17599  71.2833   C85        C  \n",
       "2      0  STON/O2. 3101282   7.9250   NaN        S  \n",
       "3      0            113803  53.1000  C123        S  \n",
       "4      0            373450   8.0500   NaN        S  "
      ]
     },
     "execution_count": 2,
     "metadata": {},
     "output_type": "execute_result"
    }
   ],
   "source": [
    "train_data = pd.read_csv('../input/titanic/train.csv')\n",
    "train_data.head()"
   ]
  },
  {
   "cell_type": "code",
   "execution_count": 3,
   "id": "f408983c",
   "metadata": {
    "execution": {
     "iopub.execute_input": "2021-09-20T21:12:42.377512Z",
     "iopub.status.busy": "2021-09-20T21:12:42.376936Z",
     "iopub.status.idle": "2021-09-20T21:12:42.401117Z",
     "shell.execute_reply": "2021-09-20T21:12:42.400510Z",
     "shell.execute_reply.started": "2021-09-20T21:10:35.102384Z"
    },
    "papermill": {
     "duration": 0.088245,
     "end_time": "2021-09-20T21:12:42.401252",
     "exception": false,
     "start_time": "2021-09-20T21:12:42.313007",
     "status": "completed"
    },
    "tags": []
   },
   "outputs": [
    {
     "data": {
      "text/html": [
       "<div>\n",
       "<style scoped>\n",
       "    .dataframe tbody tr th:only-of-type {\n",
       "        vertical-align: middle;\n",
       "    }\n",
       "\n",
       "    .dataframe tbody tr th {\n",
       "        vertical-align: top;\n",
       "    }\n",
       "\n",
       "    .dataframe thead th {\n",
       "        text-align: right;\n",
       "    }\n",
       "</style>\n",
       "<table border=\"1\" class=\"dataframe\">\n",
       "  <thead>\n",
       "    <tr style=\"text-align: right;\">\n",
       "      <th></th>\n",
       "      <th>PassengerId</th>\n",
       "      <th>Survived</th>\n",
       "      <th>Pclass</th>\n",
       "      <th>Name</th>\n",
       "      <th>Sex</th>\n",
       "      <th>Age</th>\n",
       "      <th>SibSp</th>\n",
       "      <th>Parch</th>\n",
       "      <th>Ticket</th>\n",
       "      <th>Fare</th>\n",
       "      <th>Cabin</th>\n",
       "      <th>Embarked</th>\n",
       "    </tr>\n",
       "  </thead>\n",
       "  <tbody>\n",
       "    <tr>\n",
       "      <th>0</th>\n",
       "      <td>1</td>\n",
       "      <td>0</td>\n",
       "      <td>3</td>\n",
       "      <td>Braund, Mr. Owen Harris</td>\n",
       "      <td>male</td>\n",
       "      <td>22.0</td>\n",
       "      <td>1</td>\n",
       "      <td>0</td>\n",
       "      <td>A/5 21171</td>\n",
       "      <td>7.2500</td>\n",
       "      <td>NaN</td>\n",
       "      <td>S</td>\n",
       "    </tr>\n",
       "    <tr>\n",
       "      <th>1</th>\n",
       "      <td>2</td>\n",
       "      <td>1</td>\n",
       "      <td>1</td>\n",
       "      <td>Cumings, Mrs. John Bradley (Florence Briggs Th...</td>\n",
       "      <td>female</td>\n",
       "      <td>38.0</td>\n",
       "      <td>1</td>\n",
       "      <td>0</td>\n",
       "      <td>PC 17599</td>\n",
       "      <td>71.2833</td>\n",
       "      <td>C85</td>\n",
       "      <td>C</td>\n",
       "    </tr>\n",
       "    <tr>\n",
       "      <th>2</th>\n",
       "      <td>3</td>\n",
       "      <td>1</td>\n",
       "      <td>3</td>\n",
       "      <td>Heikkinen, Miss. Laina</td>\n",
       "      <td>female</td>\n",
       "      <td>26.0</td>\n",
       "      <td>0</td>\n",
       "      <td>0</td>\n",
       "      <td>STON/O2. 3101282</td>\n",
       "      <td>7.9250</td>\n",
       "      <td>NaN</td>\n",
       "      <td>S</td>\n",
       "    </tr>\n",
       "    <tr>\n",
       "      <th>3</th>\n",
       "      <td>4</td>\n",
       "      <td>1</td>\n",
       "      <td>1</td>\n",
       "      <td>Futrelle, Mrs. Jacques Heath (Lily May Peel)</td>\n",
       "      <td>female</td>\n",
       "      <td>35.0</td>\n",
       "      <td>1</td>\n",
       "      <td>0</td>\n",
       "      <td>113803</td>\n",
       "      <td>53.1000</td>\n",
       "      <td>C123</td>\n",
       "      <td>S</td>\n",
       "    </tr>\n",
       "    <tr>\n",
       "      <th>4</th>\n",
       "      <td>5</td>\n",
       "      <td>0</td>\n",
       "      <td>3</td>\n",
       "      <td>Allen, Mr. William Henry</td>\n",
       "      <td>male</td>\n",
       "      <td>35.0</td>\n",
       "      <td>0</td>\n",
       "      <td>0</td>\n",
       "      <td>373450</td>\n",
       "      <td>8.0500</td>\n",
       "      <td>NaN</td>\n",
       "      <td>S</td>\n",
       "    </tr>\n",
       "  </tbody>\n",
       "</table>\n",
       "</div>"
      ],
      "text/plain": [
       "   PassengerId  Survived  Pclass  \\\n",
       "0            1         0       3   \n",
       "1            2         1       1   \n",
       "2            3         1       3   \n",
       "3            4         1       1   \n",
       "4            5         0       3   \n",
       "\n",
       "                                                Name     Sex   Age  SibSp  \\\n",
       "0                            Braund, Mr. Owen Harris    male  22.0      1   \n",
       "1  Cumings, Mrs. John Bradley (Florence Briggs Th...  female  38.0      1   \n",
       "2                             Heikkinen, Miss. Laina  female  26.0      0   \n",
       "3       Futrelle, Mrs. Jacques Heath (Lily May Peel)  female  35.0      1   \n",
       "4                           Allen, Mr. William Henry    male  35.0      0   \n",
       "\n",
       "   Parch            Ticket     Fare Cabin Embarked  \n",
       "0      0         A/5 21171   7.2500   NaN        S  \n",
       "1      0          PC 17599  71.2833   C85        C  \n",
       "2      0  STON/O2. 3101282   7.9250   NaN        S  \n",
       "3      0            113803  53.1000  C123        S  \n",
       "4      0            373450   8.0500   NaN        S  "
      ]
     },
     "execution_count": 3,
     "metadata": {},
     "output_type": "execute_result"
    }
   ],
   "source": [
    "test_data = pd.read_csv('../input/titanic/test.csv')\n",
    "train_data.head()"
   ]
  },
  {
   "cell_type": "code",
   "execution_count": 4,
   "id": "9bbbdd9c",
   "metadata": {
    "execution": {
     "iopub.execute_input": "2021-09-20T21:12:42.506085Z",
     "iopub.status.busy": "2021-09-20T21:12:42.505438Z",
     "iopub.status.idle": "2021-09-20T21:12:42.516107Z",
     "shell.execute_reply": "2021-09-20T21:12:42.516513Z",
     "shell.execute_reply.started": "2021-09-20T21:10:36.303444Z"
    },
    "papermill": {
     "duration": 0.064395,
     "end_time": "2021-09-20T21:12:42.516698",
     "exception": false,
     "start_time": "2021-09-20T21:12:42.452303",
     "status": "completed"
    },
    "tags": []
   },
   "outputs": [
    {
     "data": {
      "text/html": [
       "<div>\n",
       "<style scoped>\n",
       "    .dataframe tbody tr th:only-of-type {\n",
       "        vertical-align: middle;\n",
       "    }\n",
       "\n",
       "    .dataframe tbody tr th {\n",
       "        vertical-align: top;\n",
       "    }\n",
       "\n",
       "    .dataframe thead th {\n",
       "        text-align: right;\n",
       "    }\n",
       "</style>\n",
       "<table border=\"1\" class=\"dataframe\">\n",
       "  <thead>\n",
       "    <tr style=\"text-align: right;\">\n",
       "      <th></th>\n",
       "      <th>PassengerId</th>\n",
       "      <th>Survived</th>\n",
       "    </tr>\n",
       "  </thead>\n",
       "  <tbody>\n",
       "    <tr>\n",
       "      <th>0</th>\n",
       "      <td>892</td>\n",
       "      <td>0</td>\n",
       "    </tr>\n",
       "    <tr>\n",
       "      <th>1</th>\n",
       "      <td>893</td>\n",
       "      <td>1</td>\n",
       "    </tr>\n",
       "    <tr>\n",
       "      <th>2</th>\n",
       "      <td>894</td>\n",
       "      <td>0</td>\n",
       "    </tr>\n",
       "    <tr>\n",
       "      <th>3</th>\n",
       "      <td>895</td>\n",
       "      <td>0</td>\n",
       "    </tr>\n",
       "    <tr>\n",
       "      <th>4</th>\n",
       "      <td>896</td>\n",
       "      <td>1</td>\n",
       "    </tr>\n",
       "  </tbody>\n",
       "</table>\n",
       "</div>"
      ],
      "text/plain": [
       "   PassengerId  Survived\n",
       "0          892         0\n",
       "1          893         1\n",
       "2          894         0\n",
       "3          895         0\n",
       "4          896         1"
      ]
     },
     "execution_count": 4,
     "metadata": {},
     "output_type": "execute_result"
    }
   ],
   "source": [
    "submission_data = pd.read_csv('../input/titanic/gender_submission.csv')\n",
    "submission_data.head()"
   ]
  },
  {
   "cell_type": "markdown",
   "id": "ba5ad6f9",
   "metadata": {
    "papermill": {
     "duration": 0.048747,
     "end_time": "2021-09-20T21:12:42.614846",
     "exception": false,
     "start_time": "2021-09-20T21:12:42.566099",
     "status": "completed"
    },
    "tags": []
   },
   "source": [
    "# **Dealing with NAN values**`"
   ]
  },
  {
   "cell_type": "code",
   "execution_count": 5,
   "id": "8f7c1a21",
   "metadata": {
    "execution": {
     "iopub.execute_input": "2021-09-20T21:12:42.717874Z",
     "iopub.status.busy": "2021-09-20T21:12:42.717236Z",
     "iopub.status.idle": "2021-09-20T21:12:42.726699Z",
     "shell.execute_reply": "2021-09-20T21:12:42.726239Z",
     "shell.execute_reply.started": "2021-09-20T21:10:38.167048Z"
    },
    "papermill": {
     "duration": 0.06318,
     "end_time": "2021-09-20T21:12:42.726848",
     "exception": false,
     "start_time": "2021-09-20T21:12:42.663668",
     "status": "completed"
    },
    "tags": []
   },
   "outputs": [
    {
     "name": "stdout",
     "output_type": "stream",
     "text": [
      "PassengerId      0\n",
      "Survived         0\n",
      "Pclass           0\n",
      "Name             0\n",
      "Sex              0\n",
      "Age            177\n",
      "SibSp            0\n",
      "Parch            0\n",
      "Ticket           0\n",
      "Fare             0\n",
      "Cabin          687\n",
      "Embarked         2\n",
      "dtype: int64\n",
      "\n",
      "train_data shape --> (891, 12)\n",
      "\n",
      "\n",
      "PassengerId      0\n",
      "Pclass           0\n",
      "Name             0\n",
      "Sex              0\n",
      "Age             86\n",
      "SibSp            0\n",
      "Parch            0\n",
      "Ticket           0\n",
      "Fare             1\n",
      "Cabin          327\n",
      "Embarked         0\n",
      "dtype: int64\n",
      "\n",
      "test_data shape --> (418, 11)\n"
     ]
    }
   ],
   "source": [
    "print(train_data.isnull().sum())\n",
    "print()\n",
    "print('train_data shape -->',train_data.shape)\n",
    "print()\n",
    "print()\n",
    "print(test_data.isnull().sum())\n",
    "print()\n",
    "print('test_data shape -->',test_data.shape)"
   ]
  },
  {
   "cell_type": "markdown",
   "id": "1193bdba",
   "metadata": {
    "papermill": {
     "duration": 0.048771,
     "end_time": "2021-09-20T21:12:42.824871",
     "exception": false,
     "start_time": "2021-09-20T21:12:42.776100",
     "status": "completed"
    },
    "tags": []
   },
   "source": [
    "# Cabin column NaN\n",
    "**We can see the most values in the Cabin column have a NaN values**<br>\n",
    "**SO, It will better to remove the Cabin column**<br>\n",
    "**Because, it's difficult to treat**<br>"
   ]
  },
  {
   "cell_type": "code",
   "execution_count": 6,
   "id": "7dc5605b",
   "metadata": {
    "execution": {
     "iopub.execute_input": "2021-09-20T21:12:42.936160Z",
     "iopub.status.busy": "2021-09-20T21:12:42.931306Z",
     "iopub.status.idle": "2021-09-20T21:12:42.938540Z",
     "shell.execute_reply": "2021-09-20T21:12:42.938097Z",
     "shell.execute_reply.started": "2021-09-20T21:10:39.971532Z"
    },
    "papermill": {
     "duration": 0.064795,
     "end_time": "2021-09-20T21:12:42.938696",
     "exception": false,
     "start_time": "2021-09-20T21:12:42.873901",
     "status": "completed"
    },
    "tags": []
   },
   "outputs": [],
   "source": [
    "train_data.drop('Cabin', axis = 1, inplace = True)\n",
    "test_data.drop('Cabin', axis = 1, inplace = True)"
   ]
  },
  {
   "cell_type": "code",
   "execution_count": 7,
   "id": "b7ef6fe6",
   "metadata": {
    "execution": {
     "iopub.execute_input": "2021-09-20T21:12:43.047321Z",
     "iopub.status.busy": "2021-09-20T21:12:43.046136Z",
     "iopub.status.idle": "2021-09-20T21:12:43.052815Z",
     "shell.execute_reply": "2021-09-20T21:12:43.052304Z",
     "shell.execute_reply.started": "2021-09-20T21:10:40.735150Z"
    },
    "papermill": {
     "duration": 0.064876,
     "end_time": "2021-09-20T21:12:43.052966",
     "exception": false,
     "start_time": "2021-09-20T21:12:42.988090",
     "status": "completed"
    },
    "tags": []
   },
   "outputs": [
    {
     "name": "stdout",
     "output_type": "stream",
     "text": [
      "PassengerId      0\n",
      "Survived         0\n",
      "Pclass           0\n",
      "Name             0\n",
      "Sex              0\n",
      "Age            177\n",
      "SibSp            0\n",
      "Parch            0\n",
      "Ticket           0\n",
      "Fare             0\n",
      "Embarked         2\n",
      "dtype: int64\n",
      "\n",
      "train_data shape --> (891, 11)\n",
      "\n",
      "\n",
      "PassengerId     0\n",
      "Pclass          0\n",
      "Name            0\n",
      "Sex             0\n",
      "Age            86\n",
      "SibSp           0\n",
      "Parch           0\n",
      "Ticket          0\n",
      "Fare            1\n",
      "Embarked        0\n",
      "dtype: int64\n",
      "\n",
      "test_data shape --> (418, 10)\n"
     ]
    }
   ],
   "source": [
    "print(train_data.isnull().sum())\n",
    "print()\n",
    "print('train_data shape -->',train_data.shape)\n",
    "print()\n",
    "print()\n",
    "print(test_data.isnull().sum())\n",
    "print()\n",
    "print('test_data shape -->',test_data.shape)"
   ]
  },
  {
   "cell_type": "markdown",
   "id": "e8910952",
   "metadata": {
    "papermill": {
     "duration": 0.049474,
     "end_time": "2021-09-20T21:12:43.153007",
     "exception": false,
     "start_time": "2021-09-20T21:12:43.103533",
     "status": "completed"
    },
    "tags": []
   },
   "source": [
    "# Age column NaN\n",
    "**In the next few line, we will try to treat the NaN values in the Age coulmn**<br>\n",
    "**As we know, we can predict the age for any person by knowing it's name Title ('Mr', 'Mrs', 'Miss', 'Dr', etc...)**<br>\n",
    "**So, we will extract the name titels from the passengers names**\n"
   ]
  },
  {
   "cell_type": "code",
   "execution_count": 8,
   "id": "c5354156",
   "metadata": {
    "execution": {
     "iopub.execute_input": "2021-09-20T21:12:43.257295Z",
     "iopub.status.busy": "2021-09-20T21:12:43.256707Z",
     "iopub.status.idle": "2021-09-20T21:12:43.267810Z",
     "shell.execute_reply": "2021-09-20T21:12:43.268269Z",
     "shell.execute_reply.started": "2021-09-20T21:10:42.421359Z"
    },
    "papermill": {
     "duration": 0.064059,
     "end_time": "2021-09-20T21:12:43.268455",
     "exception": false,
     "start_time": "2021-09-20T21:12:43.204396",
     "status": "completed"
    },
    "tags": []
   },
   "outputs": [],
   "source": [
    "train_data['Title'] = train_data['Name'].str.extract(' ([A-Za-z]+)\\.')    \n",
    "test_data['Title'] = test_data['Name'].str.extract(' ([A-Za-z]+)\\.')"
   ]
  },
  {
   "cell_type": "code",
   "execution_count": 9,
   "id": "5397ea01",
   "metadata": {
    "execution": {
     "iopub.execute_input": "2021-09-20T21:12:43.384094Z",
     "iopub.status.busy": "2021-09-20T21:12:43.383470Z",
     "iopub.status.idle": "2021-09-20T21:12:43.388023Z",
     "shell.execute_reply": "2021-09-20T21:12:43.387424Z",
     "shell.execute_reply.started": "2021-09-20T21:10:43.392398Z"
    },
    "papermill": {
     "duration": 0.069558,
     "end_time": "2021-09-20T21:12:43.388167",
     "exception": false,
     "start_time": "2021-09-20T21:12:43.318609",
     "status": "completed"
    },
    "tags": []
   },
   "outputs": [
    {
     "data": {
      "text/html": [
       "<div>\n",
       "<style scoped>\n",
       "    .dataframe tbody tr th:only-of-type {\n",
       "        vertical-align: middle;\n",
       "    }\n",
       "\n",
       "    .dataframe tbody tr th {\n",
       "        vertical-align: top;\n",
       "    }\n",
       "\n",
       "    .dataframe thead th {\n",
       "        text-align: right;\n",
       "    }\n",
       "</style>\n",
       "<table border=\"1\" class=\"dataframe\">\n",
       "  <thead>\n",
       "    <tr style=\"text-align: right;\">\n",
       "      <th></th>\n",
       "      <th>PassengerId</th>\n",
       "      <th>Survived</th>\n",
       "      <th>Pclass</th>\n",
       "      <th>Name</th>\n",
       "      <th>Sex</th>\n",
       "      <th>Age</th>\n",
       "      <th>SibSp</th>\n",
       "      <th>Parch</th>\n",
       "      <th>Ticket</th>\n",
       "      <th>Fare</th>\n",
       "      <th>Embarked</th>\n",
       "      <th>Title</th>\n",
       "    </tr>\n",
       "  </thead>\n",
       "  <tbody>\n",
       "    <tr>\n",
       "      <th>0</th>\n",
       "      <td>1</td>\n",
       "      <td>0</td>\n",
       "      <td>3</td>\n",
       "      <td>Braund, Mr. Owen Harris</td>\n",
       "      <td>male</td>\n",
       "      <td>22.0</td>\n",
       "      <td>1</td>\n",
       "      <td>0</td>\n",
       "      <td>A/5 21171</td>\n",
       "      <td>7.2500</td>\n",
       "      <td>S</td>\n",
       "      <td>Mr</td>\n",
       "    </tr>\n",
       "    <tr>\n",
       "      <th>1</th>\n",
       "      <td>2</td>\n",
       "      <td>1</td>\n",
       "      <td>1</td>\n",
       "      <td>Cumings, Mrs. John Bradley (Florence Briggs Th...</td>\n",
       "      <td>female</td>\n",
       "      <td>38.0</td>\n",
       "      <td>1</td>\n",
       "      <td>0</td>\n",
       "      <td>PC 17599</td>\n",
       "      <td>71.2833</td>\n",
       "      <td>C</td>\n",
       "      <td>Mrs</td>\n",
       "    </tr>\n",
       "    <tr>\n",
       "      <th>2</th>\n",
       "      <td>3</td>\n",
       "      <td>1</td>\n",
       "      <td>3</td>\n",
       "      <td>Heikkinen, Miss. Laina</td>\n",
       "      <td>female</td>\n",
       "      <td>26.0</td>\n",
       "      <td>0</td>\n",
       "      <td>0</td>\n",
       "      <td>STON/O2. 3101282</td>\n",
       "      <td>7.9250</td>\n",
       "      <td>S</td>\n",
       "      <td>Miss</td>\n",
       "    </tr>\n",
       "    <tr>\n",
       "      <th>3</th>\n",
       "      <td>4</td>\n",
       "      <td>1</td>\n",
       "      <td>1</td>\n",
       "      <td>Futrelle, Mrs. Jacques Heath (Lily May Peel)</td>\n",
       "      <td>female</td>\n",
       "      <td>35.0</td>\n",
       "      <td>1</td>\n",
       "      <td>0</td>\n",
       "      <td>113803</td>\n",
       "      <td>53.1000</td>\n",
       "      <td>S</td>\n",
       "      <td>Mrs</td>\n",
       "    </tr>\n",
       "    <tr>\n",
       "      <th>4</th>\n",
       "      <td>5</td>\n",
       "      <td>0</td>\n",
       "      <td>3</td>\n",
       "      <td>Allen, Mr. William Henry</td>\n",
       "      <td>male</td>\n",
       "      <td>35.0</td>\n",
       "      <td>0</td>\n",
       "      <td>0</td>\n",
       "      <td>373450</td>\n",
       "      <td>8.0500</td>\n",
       "      <td>S</td>\n",
       "      <td>Mr</td>\n",
       "    </tr>\n",
       "  </tbody>\n",
       "</table>\n",
       "</div>"
      ],
      "text/plain": [
       "   PassengerId  Survived  Pclass  \\\n",
       "0            1         0       3   \n",
       "1            2         1       1   \n",
       "2            3         1       3   \n",
       "3            4         1       1   \n",
       "4            5         0       3   \n",
       "\n",
       "                                                Name     Sex   Age  SibSp  \\\n",
       "0                            Braund, Mr. Owen Harris    male  22.0      1   \n",
       "1  Cumings, Mrs. John Bradley (Florence Briggs Th...  female  38.0      1   \n",
       "2                             Heikkinen, Miss. Laina  female  26.0      0   \n",
       "3       Futrelle, Mrs. Jacques Heath (Lily May Peel)  female  35.0      1   \n",
       "4                           Allen, Mr. William Henry    male  35.0      0   \n",
       "\n",
       "   Parch            Ticket     Fare Embarked Title  \n",
       "0      0         A/5 21171   7.2500        S    Mr  \n",
       "1      0          PC 17599  71.2833        C   Mrs  \n",
       "2      0  STON/O2. 3101282   7.9250        S  Miss  \n",
       "3      0            113803  53.1000        S   Mrs  \n",
       "4      0            373450   8.0500        S    Mr  "
      ]
     },
     "execution_count": 9,
     "metadata": {},
     "output_type": "execute_result"
    }
   ],
   "source": [
    "train_data.head()"
   ]
  },
  {
   "cell_type": "code",
   "execution_count": 10,
   "id": "cce908b0",
   "metadata": {
    "execution": {
     "iopub.execute_input": "2021-09-20T21:12:43.498782Z",
     "iopub.status.busy": "2021-09-20T21:12:43.498120Z",
     "iopub.status.idle": "2021-09-20T21:12:43.501636Z",
     "shell.execute_reply": "2021-09-20T21:12:43.501049Z",
     "shell.execute_reply.started": "2021-09-20T21:10:44.315379Z"
    },
    "papermill": {
     "duration": 0.063209,
     "end_time": "2021-09-20T21:12:43.501793",
     "exception": false,
     "start_time": "2021-09-20T21:12:43.438584",
     "status": "completed"
    },
    "tags": []
   },
   "outputs": [
    {
     "data": {
      "text/plain": [
       "Mr          517\n",
       "Miss        182\n",
       "Mrs         125\n",
       "Master       40\n",
       "Dr            7\n",
       "Rev           6\n",
       "Mlle          2\n",
       "Major         2\n",
       "Col           2\n",
       "Countess      1\n",
       "Capt          1\n",
       "Ms            1\n",
       "Sir           1\n",
       "Lady          1\n",
       "Mme           1\n",
       "Don           1\n",
       "Jonkheer      1\n",
       "Name: Title, dtype: int64"
      ]
     },
     "execution_count": 10,
     "metadata": {},
     "output_type": "execute_result"
    }
   ],
   "source": [
    "train_data['Title'].value_counts()"
   ]
  },
  {
   "cell_type": "code",
   "execution_count": 11,
   "id": "ceaad87d",
   "metadata": {
    "execution": {
     "iopub.execute_input": "2021-09-20T21:12:43.608416Z",
     "iopub.status.busy": "2021-09-20T21:12:43.607857Z",
     "iopub.status.idle": "2021-09-20T21:12:43.610568Z",
     "shell.execute_reply": "2021-09-20T21:12:43.610122Z",
     "shell.execute_reply.started": "2021-09-20T21:10:45.202773Z"
    },
    "papermill": {
     "duration": 0.057883,
     "end_time": "2021-09-20T21:12:43.610720",
     "exception": false,
     "start_time": "2021-09-20T21:12:43.552837",
     "status": "completed"
    },
    "tags": []
   },
   "outputs": [],
   "source": [
    "all_data = [train_data, test_data]"
   ]
  },
  {
   "cell_type": "code",
   "execution_count": 12,
   "id": "4bffe24a",
   "metadata": {
    "execution": {
     "iopub.execute_input": "2021-09-20T21:12:43.720575Z",
     "iopub.status.busy": "2021-09-20T21:12:43.719982Z",
     "iopub.status.idle": "2021-09-20T21:12:43.740383Z",
     "shell.execute_reply": "2021-09-20T21:12:43.740838Z",
     "shell.execute_reply.started": "2021-09-20T21:10:46.265219Z"
    },
    "papermill": {
     "duration": 0.079895,
     "end_time": "2021-09-20T21:12:43.741016",
     "exception": false,
     "start_time": "2021-09-20T21:12:43.661121",
     "status": "completed"
    },
    "tags": []
   },
   "outputs": [],
   "source": [
    "for data in all_data:\n",
    "    data.loc[(data['Age'].isnull()) & (data['Title'] == 'Mr'), 'Age'] = data[data['Title'] == 'Mr']['Age'].mean()\n",
    "    data.loc[(data['Age'].isnull()) & (data['Title'] == 'Mrs'), 'Age'] = data[data['Title'] == 'Mrs']['Age'].mean()\n",
    "    data.loc[(data['Age'].isnull()) & (data['Title'] == 'Miss'), 'Age'] = data[data['Title'] == 'Miss']['Age'].mean()\n",
    "    data.loc[(data['Age'].isnull()) & (data['Title'] == 'Master'), 'Age'] = data[data['Title'] == 'Master']['Age'].mean()\n",
    "    data.loc[(data['Age'].isnull()) & (data['Title'] == 'Dr'), 'Age'] = data[data['Title'] == 'Dr']['Age'].mean()\n",
    "    data.loc[(data['Age'].isnull()) & (data['Title'] == 'Rev'), 'Age'] = data[data['Title'] == 'Rev']['Age'].mean()\n",
    "    data.loc[(data['Age'].isnull()), 'Age'] = data['Age'].mean()"
   ]
  },
  {
   "cell_type": "code",
   "execution_count": 13,
   "id": "c1a2491b",
   "metadata": {
    "execution": {
     "iopub.execute_input": "2021-09-20T21:12:43.845401Z",
     "iopub.status.busy": "2021-09-20T21:12:43.844804Z",
     "iopub.status.idle": "2021-09-20T21:12:43.854617Z",
     "shell.execute_reply": "2021-09-20T21:12:43.855156Z",
     "shell.execute_reply.started": "2021-09-20T21:10:47.341424Z"
    },
    "papermill": {
     "duration": 0.064381,
     "end_time": "2021-09-20T21:12:43.855320",
     "exception": false,
     "start_time": "2021-09-20T21:12:43.790939",
     "status": "completed"
    },
    "tags": []
   },
   "outputs": [
    {
     "name": "stdout",
     "output_type": "stream",
     "text": [
      "PassengerId    0\n",
      "Survived       0\n",
      "Pclass         0\n",
      "Name           0\n",
      "Sex            0\n",
      "Age            0\n",
      "SibSp          0\n",
      "Parch          0\n",
      "Ticket         0\n",
      "Fare           0\n",
      "Embarked       2\n",
      "Title          0\n",
      "dtype: int64\n",
      "\n",
      "train_data shape --> (891, 12)\n",
      "\n",
      "\n",
      "PassengerId    0\n",
      "Pclass         0\n",
      "Name           0\n",
      "Sex            0\n",
      "Age            0\n",
      "SibSp          0\n",
      "Parch          0\n",
      "Ticket         0\n",
      "Fare           1\n",
      "Embarked       0\n",
      "Title          0\n",
      "dtype: int64\n",
      "\n",
      "test_data shape --> (418, 11)\n"
     ]
    }
   ],
   "source": [
    "print(train_data.isnull().sum())\n",
    "print()\n",
    "print('train_data shape -->',train_data.shape)\n",
    "print()\n",
    "print()\n",
    "print(test_data.isnull().sum())\n",
    "print()\n",
    "print('test_data shape -->',test_data.shape)"
   ]
  },
  {
   "cell_type": "markdown",
   "id": "f0468e29",
   "metadata": {
    "papermill": {
     "duration": 0.052011,
     "end_time": "2021-09-20T21:12:43.957960",
     "exception": false,
     "start_time": "2021-09-20T21:12:43.905949",
     "status": "completed"
    },
    "tags": []
   },
   "source": [
    "# Embarked column NaN\n",
    "**In this column, we have only two NaN values**<br>\n",
    "**We can remove the two records to solve the NaN value problem**<br>\n",
    "**but We have little data**<br>\n",
    "**So**<br>\n",
    "**We solve it by replace the the NaN values by the most frequent value**"
   ]
  },
  {
   "cell_type": "code",
   "execution_count": 14,
   "id": "81ea33c7",
   "metadata": {
    "execution": {
     "iopub.execute_input": "2021-09-20T21:12:44.064200Z",
     "iopub.status.busy": "2021-09-20T21:12:44.063341Z",
     "iopub.status.idle": "2021-09-20T21:12:44.070416Z",
     "shell.execute_reply": "2021-09-20T21:12:44.069971Z",
     "shell.execute_reply.started": "2021-09-20T21:10:49.208386Z"
    },
    "papermill": {
     "duration": 0.061046,
     "end_time": "2021-09-20T21:12:44.070547",
     "exception": false,
     "start_time": "2021-09-20T21:12:44.009501",
     "status": "completed"
    },
    "tags": []
   },
   "outputs": [
    {
     "data": {
      "text/plain": [
       "S    644\n",
       "C    168\n",
       "Q     77\n",
       "Name: Embarked, dtype: int64"
      ]
     },
     "execution_count": 14,
     "metadata": {},
     "output_type": "execute_result"
    }
   ],
   "source": [
    "train_data['Embarked'].value_counts()"
   ]
  },
  {
   "cell_type": "code",
   "execution_count": 15,
   "id": "a12acc52",
   "metadata": {
    "execution": {
     "iopub.execute_input": "2021-09-20T21:12:44.180069Z",
     "iopub.status.busy": "2021-09-20T21:12:44.179445Z",
     "iopub.status.idle": "2021-09-20T21:12:44.181499Z",
     "shell.execute_reply": "2021-09-20T21:12:44.182099Z",
     "shell.execute_reply.started": "2021-09-20T21:10:50.120896Z"
    },
    "papermill": {
     "duration": 0.06063,
     "end_time": "2021-09-20T21:12:44.182266",
     "exception": false,
     "start_time": "2021-09-20T21:12:44.121636",
     "status": "completed"
    },
    "tags": []
   },
   "outputs": [],
   "source": [
    "train_data['Embarked'] = train_data['Embarked'].fillna('S')\n",
    "test_data['Embarked'] = test_data['Embarked'].fillna('S')"
   ]
  },
  {
   "cell_type": "code",
   "execution_count": 16,
   "id": "2c3513db",
   "metadata": {
    "execution": {
     "iopub.execute_input": "2021-09-20T21:12:44.288408Z",
     "iopub.status.busy": "2021-09-20T21:12:44.287814Z",
     "iopub.status.idle": "2021-09-20T21:12:44.294125Z",
     "shell.execute_reply": "2021-09-20T21:12:44.294696Z",
     "shell.execute_reply.started": "2021-09-20T21:10:51.075479Z"
    },
    "papermill": {
     "duration": 0.060896,
     "end_time": "2021-09-20T21:12:44.294870",
     "exception": false,
     "start_time": "2021-09-20T21:12:44.233974",
     "status": "completed"
    },
    "tags": []
   },
   "outputs": [
    {
     "data": {
      "text/plain": [
       "S    646\n",
       "C    168\n",
       "Q     77\n",
       "Name: Embarked, dtype: int64"
      ]
     },
     "execution_count": 16,
     "metadata": {},
     "output_type": "execute_result"
    }
   ],
   "source": [
    "train_data['Embarked'].value_counts()"
   ]
  },
  {
   "cell_type": "code",
   "execution_count": 17,
   "id": "2c3f5ce4",
   "metadata": {
    "execution": {
     "iopub.execute_input": "2021-09-20T21:12:44.399496Z",
     "iopub.status.busy": "2021-09-20T21:12:44.398928Z",
     "iopub.status.idle": "2021-09-20T21:12:44.408744Z",
     "shell.execute_reply": "2021-09-20T21:12:44.409298Z",
     "shell.execute_reply.started": "2021-09-20T21:10:51.969202Z"
    },
    "papermill": {
     "duration": 0.063881,
     "end_time": "2021-09-20T21:12:44.409465",
     "exception": false,
     "start_time": "2021-09-20T21:12:44.345584",
     "status": "completed"
    },
    "tags": []
   },
   "outputs": [
    {
     "name": "stdout",
     "output_type": "stream",
     "text": [
      "PassengerId    0\n",
      "Survived       0\n",
      "Pclass         0\n",
      "Name           0\n",
      "Sex            0\n",
      "Age            0\n",
      "SibSp          0\n",
      "Parch          0\n",
      "Ticket         0\n",
      "Fare           0\n",
      "Embarked       0\n",
      "Title          0\n",
      "dtype: int64\n",
      "\n",
      "train_data shape --> (891, 12)\n",
      "\n",
      "\n",
      "PassengerId    0\n",
      "Pclass         0\n",
      "Name           0\n",
      "Sex            0\n",
      "Age            0\n",
      "SibSp          0\n",
      "Parch          0\n",
      "Ticket         0\n",
      "Fare           1\n",
      "Embarked       0\n",
      "Title          0\n",
      "dtype: int64\n",
      "\n",
      "test_data shape --> (418, 11)\n"
     ]
    }
   ],
   "source": [
    "print(train_data.isnull().sum())\n",
    "print()\n",
    "print('train_data shape -->',train_data.shape)\n",
    "print()\n",
    "print()\n",
    "print(test_data.isnull().sum())\n",
    "print()\n",
    "print('test_data shape -->',test_data.shape)"
   ]
  },
  {
   "cell_type": "markdown",
   "id": "0dab7d6b",
   "metadata": {
    "papermill": {
     "duration": 0.05152,
     "end_time": "2021-09-20T21:12:44.513322",
     "exception": false,
     "start_time": "2021-09-20T21:12:44.461802",
     "status": "completed"
    },
    "tags": []
   },
   "source": [
    "# Fare column NaN\n",
    "**In this column, we have only one NaN values**<br>\n",
    "**We will replace it by the Fare mean**"
   ]
  },
  {
   "cell_type": "code",
   "execution_count": 18,
   "id": "0d5883e6",
   "metadata": {
    "execution": {
     "iopub.execute_input": "2021-09-20T21:12:44.621068Z",
     "iopub.status.busy": "2021-09-20T21:12:44.620360Z",
     "iopub.status.idle": "2021-09-20T21:12:44.624921Z",
     "shell.execute_reply": "2021-09-20T21:12:44.625388Z",
     "shell.execute_reply.started": "2021-09-20T21:10:53.841440Z"
    },
    "papermill": {
     "duration": 0.060437,
     "end_time": "2021-09-20T21:12:44.625561",
     "exception": false,
     "start_time": "2021-09-20T21:12:44.565124",
     "status": "completed"
    },
    "tags": []
   },
   "outputs": [],
   "source": [
    "test_data['Fare'] = test_data['Fare'].fillna(test_data['Fare'].mean())"
   ]
  },
  {
   "cell_type": "code",
   "execution_count": 19,
   "id": "0447f66c",
   "metadata": {
    "execution": {
     "iopub.execute_input": "2021-09-20T21:12:44.734456Z",
     "iopub.status.busy": "2021-09-20T21:12:44.733874Z",
     "iopub.status.idle": "2021-09-20T21:12:44.744001Z",
     "shell.execute_reply": "2021-09-20T21:12:44.744451Z",
     "shell.execute_reply.started": "2021-09-20T21:10:54.834418Z"
    },
    "papermill": {
     "duration": 0.064993,
     "end_time": "2021-09-20T21:12:44.744623",
     "exception": false,
     "start_time": "2021-09-20T21:12:44.679630",
     "status": "completed"
    },
    "tags": []
   },
   "outputs": [
    {
     "name": "stdout",
     "output_type": "stream",
     "text": [
      "PassengerId    0\n",
      "Survived       0\n",
      "Pclass         0\n",
      "Name           0\n",
      "Sex            0\n",
      "Age            0\n",
      "SibSp          0\n",
      "Parch          0\n",
      "Ticket         0\n",
      "Fare           0\n",
      "Embarked       0\n",
      "Title          0\n",
      "dtype: int64\n",
      "\n",
      "train_data shape --> (891, 12)\n",
      "\n",
      "\n",
      "PassengerId    0\n",
      "Pclass         0\n",
      "Name           0\n",
      "Sex            0\n",
      "Age            0\n",
      "SibSp          0\n",
      "Parch          0\n",
      "Ticket         0\n",
      "Fare           0\n",
      "Embarked       0\n",
      "Title          0\n",
      "dtype: int64\n",
      "\n",
      "test_data shape --> (418, 11)\n"
     ]
    }
   ],
   "source": [
    "print(train_data.isnull().sum())\n",
    "print()\n",
    "print('train_data shape -->',train_data.shape)\n",
    "print()\n",
    "print()\n",
    "print(test_data.isnull().sum())\n",
    "print()\n",
    "print('test_data shape -->',test_data.shape)"
   ]
  },
  {
   "cell_type": "markdown",
   "id": "c765d994",
   "metadata": {
    "papermill": {
     "duration": 0.05236,
     "end_time": "2021-09-20T21:12:44.848902",
     "exception": false,
     "start_time": "2021-09-20T21:12:44.796542",
     "status": "completed"
    },
    "tags": []
   },
   "source": [
    "# Drop coulmns operation\n",
    "**'PassengerId' coulumn in our database have a unique number for every client**.<br>\n",
    "**'Name' and 'Ticket' columns will have no effect in our prediction**<br>\n",
    "**'Title' coulmn used in predicted the Age missing values,** <br>\n",
    "**so we will not need it anymore**"
   ]
  },
  {
   "cell_type": "code",
   "execution_count": 20,
   "id": "0bbd8487",
   "metadata": {
    "execution": {
     "iopub.execute_input": "2021-09-20T21:12:44.957619Z",
     "iopub.status.busy": "2021-09-20T21:12:44.957026Z",
     "iopub.status.idle": "2021-09-20T21:12:44.962549Z",
     "shell.execute_reply": "2021-09-20T21:12:44.963094Z",
     "shell.execute_reply.started": "2021-09-20T21:10:56.616121Z"
    },
    "papermill": {
     "duration": 0.062467,
     "end_time": "2021-09-20T21:12:44.963265",
     "exception": false,
     "start_time": "2021-09-20T21:12:44.900798",
     "status": "completed"
    },
    "tags": []
   },
   "outputs": [],
   "source": [
    "drop_list = ['PassengerId', 'Name', 'Ticket', 'Title']\n",
    "train_data.drop(drop_list, axis = 1, inplace = True)\n",
    "test_data.drop(drop_list, axis = 1, inplace = True)"
   ]
  },
  {
   "cell_type": "code",
   "execution_count": 21,
   "id": "aba3cdb0",
   "metadata": {
    "execution": {
     "iopub.execute_input": "2021-09-20T21:12:45.072460Z",
     "iopub.status.busy": "2021-09-20T21:12:45.071886Z",
     "iopub.status.idle": "2021-09-20T21:12:45.092846Z",
     "shell.execute_reply": "2021-09-20T21:12:45.093267Z",
     "shell.execute_reply.started": "2021-09-20T21:10:57.620679Z"
    },
    "papermill": {
     "duration": 0.078134,
     "end_time": "2021-09-20T21:12:45.093440",
     "exception": false,
     "start_time": "2021-09-20T21:12:45.015306",
     "status": "completed"
    },
    "tags": []
   },
   "outputs": [
    {
     "name": "stdout",
     "output_type": "stream",
     "text": [
      "<class 'pandas.core.frame.DataFrame'>\n",
      "RangeIndex: 891 entries, 0 to 890\n",
      "Data columns (total 8 columns):\n",
      " #   Column    Non-Null Count  Dtype  \n",
      "---  ------    --------------  -----  \n",
      " 0   Survived  891 non-null    int64  \n",
      " 1   Pclass    891 non-null    int64  \n",
      " 2   Sex       891 non-null    object \n",
      " 3   Age       891 non-null    float64\n",
      " 4   SibSp     891 non-null    int64  \n",
      " 5   Parch     891 non-null    int64  \n",
      " 6   Fare      891 non-null    float64\n",
      " 7   Embarked  891 non-null    object \n",
      "dtypes: float64(2), int64(4), object(2)\n",
      "memory usage: 55.8+ KB\n",
      "None\n",
      "\n",
      "\n",
      "<class 'pandas.core.frame.DataFrame'>\n",
      "RangeIndex: 418 entries, 0 to 417\n",
      "Data columns (total 7 columns):\n",
      " #   Column    Non-Null Count  Dtype  \n",
      "---  ------    --------------  -----  \n",
      " 0   Pclass    418 non-null    int64  \n",
      " 1   Sex       418 non-null    object \n",
      " 2   Age       418 non-null    float64\n",
      " 3   SibSp     418 non-null    int64  \n",
      " 4   Parch     418 non-null    int64  \n",
      " 5   Fare      418 non-null    float64\n",
      " 6   Embarked  418 non-null    object \n",
      "dtypes: float64(2), int64(3), object(2)\n",
      "memory usage: 23.0+ KB\n",
      "None\n"
     ]
    }
   ],
   "source": [
    "print(train_data.info())\n",
    "print()\n",
    "print()\n",
    "print(test_data.info())"
   ]
  },
  {
   "cell_type": "code",
   "execution_count": 22,
   "id": "c269221d",
   "metadata": {
    "execution": {
     "iopub.execute_input": "2021-09-20T21:12:45.204875Z",
     "iopub.status.busy": "2021-09-20T21:12:45.204179Z",
     "iopub.status.idle": "2021-09-20T21:12:45.216049Z",
     "shell.execute_reply": "2021-09-20T21:12:45.216459Z",
     "shell.execute_reply.started": "2021-09-20T21:10:58.601292Z"
    },
    "papermill": {
     "duration": 0.070299,
     "end_time": "2021-09-20T21:12:45.216630",
     "exception": false,
     "start_time": "2021-09-20T21:12:45.146331",
     "status": "completed"
    },
    "tags": []
   },
   "outputs": [
    {
     "data": {
      "text/html": [
       "<div>\n",
       "<style scoped>\n",
       "    .dataframe tbody tr th:only-of-type {\n",
       "        vertical-align: middle;\n",
       "    }\n",
       "\n",
       "    .dataframe tbody tr th {\n",
       "        vertical-align: top;\n",
       "    }\n",
       "\n",
       "    .dataframe thead th {\n",
       "        text-align: right;\n",
       "    }\n",
       "</style>\n",
       "<table border=\"1\" class=\"dataframe\">\n",
       "  <thead>\n",
       "    <tr style=\"text-align: right;\">\n",
       "      <th></th>\n",
       "      <th>Survived</th>\n",
       "      <th>Pclass</th>\n",
       "      <th>Sex</th>\n",
       "      <th>Age</th>\n",
       "      <th>SibSp</th>\n",
       "      <th>Parch</th>\n",
       "      <th>Fare</th>\n",
       "      <th>Embarked</th>\n",
       "    </tr>\n",
       "  </thead>\n",
       "  <tbody>\n",
       "    <tr>\n",
       "      <th>0</th>\n",
       "      <td>0</td>\n",
       "      <td>3</td>\n",
       "      <td>male</td>\n",
       "      <td>22.0</td>\n",
       "      <td>1</td>\n",
       "      <td>0</td>\n",
       "      <td>7.2500</td>\n",
       "      <td>S</td>\n",
       "    </tr>\n",
       "    <tr>\n",
       "      <th>1</th>\n",
       "      <td>1</td>\n",
       "      <td>1</td>\n",
       "      <td>female</td>\n",
       "      <td>38.0</td>\n",
       "      <td>1</td>\n",
       "      <td>0</td>\n",
       "      <td>71.2833</td>\n",
       "      <td>C</td>\n",
       "    </tr>\n",
       "    <tr>\n",
       "      <th>2</th>\n",
       "      <td>1</td>\n",
       "      <td>3</td>\n",
       "      <td>female</td>\n",
       "      <td>26.0</td>\n",
       "      <td>0</td>\n",
       "      <td>0</td>\n",
       "      <td>7.9250</td>\n",
       "      <td>S</td>\n",
       "    </tr>\n",
       "    <tr>\n",
       "      <th>3</th>\n",
       "      <td>1</td>\n",
       "      <td>1</td>\n",
       "      <td>female</td>\n",
       "      <td>35.0</td>\n",
       "      <td>1</td>\n",
       "      <td>0</td>\n",
       "      <td>53.1000</td>\n",
       "      <td>S</td>\n",
       "    </tr>\n",
       "    <tr>\n",
       "      <th>4</th>\n",
       "      <td>0</td>\n",
       "      <td>3</td>\n",
       "      <td>male</td>\n",
       "      <td>35.0</td>\n",
       "      <td>0</td>\n",
       "      <td>0</td>\n",
       "      <td>8.0500</td>\n",
       "      <td>S</td>\n",
       "    </tr>\n",
       "  </tbody>\n",
       "</table>\n",
       "</div>"
      ],
      "text/plain": [
       "   Survived  Pclass     Sex   Age  SibSp  Parch     Fare Embarked\n",
       "0         0       3    male  22.0      1      0   7.2500        S\n",
       "1         1       1  female  38.0      1      0  71.2833        C\n",
       "2         1       3  female  26.0      0      0   7.9250        S\n",
       "3         1       1  female  35.0      1      0  53.1000        S\n",
       "4         0       3    male  35.0      0      0   8.0500        S"
      ]
     },
     "execution_count": 22,
     "metadata": {},
     "output_type": "execute_result"
    }
   ],
   "source": [
    "train_data.head()"
   ]
  },
  {
   "cell_type": "markdown",
   "id": "95fdb695",
   "metadata": {
    "papermill": {
     "duration": 0.052673,
     "end_time": "2021-09-20T21:12:45.322018",
     "exception": false,
     "start_time": "2021-09-20T21:12:45.269345",
     "status": "completed"
    },
    "tags": []
   },
   "source": [
    "# Visualization of Data\n",
    "**We will create some figure to know more about data** <br>\n",
    "**and discover,** <br>\n",
    "**if we want another data processing operations** <br>"
   ]
  },
  {
   "cell_type": "code",
   "execution_count": 23,
   "id": "279bc93c",
   "metadata": {
    "execution": {
     "iopub.execute_input": "2021-09-20T21:12:45.448483Z",
     "iopub.status.busy": "2021-09-20T21:12:45.447827Z",
     "iopub.status.idle": "2021-09-20T21:12:45.977926Z",
     "shell.execute_reply": "2021-09-20T21:12:45.978494Z",
     "shell.execute_reply.started": "2021-09-20T21:11:00.432998Z"
    },
    "papermill": {
     "duration": 0.604121,
     "end_time": "2021-09-20T21:12:45.978692",
     "exception": false,
     "start_time": "2021-09-20T21:12:45.374571",
     "status": "completed"
    },
    "tags": []
   },
   "outputs": [
    {
     "data": {
      "image/png": "[encoded data removed]",
      "text/plain": [
       "<Figure size 720x720 with 2 Axes>"
      ]
     },
     "metadata": {
      "needs_background": "light"
     },
     "output_type": "display_data"
    }
   ],
   "source": [
    "fig, ax = plt.subplots(figsize = (10, 10))\n",
    "sns.heatmap(train_data.corr(), cmap = 'BuPu', cbar = True, annot = True, linewidth = 0.5, ax = ax)\n",
    "plt.show()"
   ]
  },
  {
   "cell_type": "code",
   "execution_count": 24,
   "id": "12fdbcbb",
   "metadata": {
    "execution": {
     "iopub.execute_input": "2021-09-20T21:12:46.097050Z",
     "iopub.status.busy": "2021-09-20T21:12:46.096200Z",
     "iopub.status.idle": "2021-09-20T21:12:46.100358Z",
     "shell.execute_reply": "2021-09-20T21:12:46.099808Z",
     "shell.execute_reply.started": "2021-09-20T21:11:01.504243Z"
    },
    "papermill": {
     "duration": 0.067457,
     "end_time": "2021-09-20T21:12:46.100487",
     "exception": false,
     "start_time": "2021-09-20T21:12:46.033030",
     "status": "completed"
    },
    "tags": []
   },
   "outputs": [
    {
     "data": {
      "text/plain": [
       "3    491\n",
       "1    216\n",
       "2    184\n",
       "Name: Pclass, dtype: int64"
      ]
     },
     "execution_count": 24,
     "metadata": {},
     "output_type": "execute_result"
    }
   ],
   "source": [
    "train_data['Pclass'].value_counts()"
   ]
  },
  {
   "cell_type": "code",
   "execution_count": 25,
   "id": "01c5ffcd",
   "metadata": {
    "execution": {
     "iopub.execute_input": "2021-09-20T21:12:46.216225Z",
     "iopub.status.busy": "2021-09-20T21:12:46.215285Z",
     "iopub.status.idle": "2021-09-20T21:12:46.490703Z",
     "shell.execute_reply": "2021-09-20T21:12:46.491339Z",
     "shell.execute_reply.started": "2021-09-20T21:11:02.624635Z"
    },
    "papermill": {
     "duration": 0.337102,
     "end_time": "2021-09-20T21:12:46.491512",
     "exception": false,
     "start_time": "2021-09-20T21:12:46.154410",
     "status": "completed"
    },
    "tags": []
   },
   "outputs": [
    {
     "data": {
      "text/plain": [
       "<seaborn.axisgrid.FacetGrid at 0x7fd575cd4190>"
      ]
     },
     "execution_count": 25,
     "metadata": {},
     "output_type": "execute_result"
    },
    {
     "data": {
      "image/png": "[encoded data removed]",
      "text/plain": [
       "<Figure size 360x360 with 1 Axes>"
      ]
     },
     "metadata": {
      "needs_background": "light"
     },
     "output_type": "display_data"
    }
   ],
   "source": [
    "sns.catplot(x = 'Pclass', y= 'Survived', kind = 'bar', data = train_data)"
   ]
  },
  {
   "cell_type": "markdown",
   "id": "0df5e218",
   "metadata": {
    "papermill": {
     "duration": 0.054625,
     "end_time": "2021-09-20T21:12:46.601027",
     "exception": false,
     "start_time": "2021-09-20T21:12:46.546402",
     "status": "completed"
    },
    "tags": []
   },
   "source": [
    "**first class passengers have better survival chance than second.**<br>\n",
    "**And, second class passengers have better survival chance than third.**<br>\n",
    " "
   ]
  },
  {
   "cell_type": "code",
   "execution_count": 26,
   "id": "a8cfcd9b",
   "metadata": {
    "execution": {
     "iopub.execute_input": "2021-09-20T21:12:46.718083Z",
     "iopub.status.busy": "2021-09-20T21:12:46.717247Z",
     "iopub.status.idle": "2021-09-20T21:12:46.720625Z",
     "shell.execute_reply": "2021-09-20T21:12:46.721041Z",
     "shell.execute_reply.started": "2021-09-20T21:11:05.023009Z"
    },
    "papermill": {
     "duration": 0.065271,
     "end_time": "2021-09-20T21:12:46.721218",
     "exception": false,
     "start_time": "2021-09-20T21:12:46.655947",
     "status": "completed"
    },
    "tags": []
   },
   "outputs": [
    {
     "data": {
      "text/plain": [
       "S    646\n",
       "C    168\n",
       "Q     77\n",
       "Name: Embarked, dtype: int64"
      ]
     },
     "execution_count": 26,
     "metadata": {},
     "output_type": "execute_result"
    }
   ],
   "source": [
    "train_data['Embarked'].value_counts()"
   ]
  },
  {
   "cell_type": "code",
   "execution_count": 27,
   "id": "e679fdac",
   "metadata": {
    "execution": {
     "iopub.execute_input": "2021-09-20T21:12:46.839397Z",
     "iopub.status.busy": "2021-09-20T21:12:46.838088Z",
     "iopub.status.idle": "2021-09-20T21:12:47.089252Z",
     "shell.execute_reply": "2021-09-20T21:12:47.088766Z",
     "shell.execute_reply.started": "2021-09-20T21:11:05.927485Z"
    },
    "papermill": {
     "duration": 0.312942,
     "end_time": "2021-09-20T21:12:47.089394",
     "exception": false,
     "start_time": "2021-09-20T21:12:46.776452",
     "status": "completed"
    },
    "tags": []
   },
   "outputs": [
    {
     "data": {
      "text/plain": [
       "<seaborn.axisgrid.FacetGrid at 0x7fd575d3b590>"
      ]
     },
     "execution_count": 27,
     "metadata": {},
     "output_type": "execute_result"
    },
    {
     "data": {
      "image/png": "[encoded data removed]",
      "text/plain": [
       "<Figure size 360x360 with 1 Axes>"
      ]
     },
     "metadata": {
      "needs_background": "light"
     },
     "output_type": "display_data"
    }
   ],
   "source": [
    "sns.catplot(x = 'Embarked', y= 'Survived', kind = 'bar', data = train_data)"
   ]
  },
  {
   "cell_type": "markdown",
   "id": "170939c9",
   "metadata": {
    "papermill": {
     "duration": 0.056199,
     "end_time": "2021-09-20T21:12:47.201934",
     "exception": false,
     "start_time": "2021-09-20T21:12:47.145735",
     "status": "completed"
    },
    "tags": []
   },
   "source": [
    "**We can see in the previous figure**<br>\n",
    "**the C Embarked passenger have better survival chance.**"
   ]
  },
  {
   "cell_type": "code",
   "execution_count": 28,
   "id": "900fc0a7",
   "metadata": {
    "execution": {
     "iopub.execute_input": "2021-09-20T21:12:47.321468Z",
     "iopub.status.busy": "2021-09-20T21:12:47.320721Z",
     "iopub.status.idle": "2021-09-20T21:12:47.323219Z",
     "shell.execute_reply": "2021-09-20T21:12:47.323639Z",
     "shell.execute_reply.started": "2021-09-20T21:11:07.542280Z"
    },
    "papermill": {
     "duration": 0.065744,
     "end_time": "2021-09-20T21:12:47.323830",
     "exception": false,
     "start_time": "2021-09-20T21:12:47.258086",
     "status": "completed"
    },
    "tags": []
   },
   "outputs": [
    {
     "data": {
      "text/plain": [
       "male      577\n",
       "female    314\n",
       "Name: Sex, dtype: int64"
      ]
     },
     "execution_count": 28,
     "metadata": {},
     "output_type": "execute_result"
    }
   ],
   "source": [
    "train_data['Sex'].value_counts()"
   ]
  },
  {
   "cell_type": "code",
   "execution_count": 29,
   "id": "964386e6",
   "metadata": {
    "execution": {
     "iopub.execute_input": "2021-09-20T21:12:47.440240Z",
     "iopub.status.busy": "2021-09-20T21:12:47.439513Z",
     "iopub.status.idle": "2021-09-20T21:12:47.758505Z",
     "shell.execute_reply": "2021-09-20T21:12:47.758020Z",
     "shell.execute_reply.started": "2021-09-20T21:11:07.798146Z"
    },
    "papermill": {
     "duration": 0.378588,
     "end_time": "2021-09-20T21:12:47.758671",
     "exception": false,
     "start_time": "2021-09-20T21:12:47.380083",
     "status": "completed"
    },
    "tags": []
   },
   "outputs": [
    {
     "data": {
      "text/plain": [
       "<seaborn.axisgrid.FacetGrid at 0x7fd56da3d490>"
      ]
     },
     "execution_count": 29,
     "metadata": {},
     "output_type": "execute_result"
    },
    {
     "data": {
      "image/png": "[encoded data removed]",
      "text/plain": [
       "<Figure size 360x360 with 1 Axes>"
      ]
     },
     "metadata": {
      "needs_background": "light"
     },
     "output_type": "display_data"
    }
   ],
   "source": [
    "sns.catplot(x = 'Sex', y= 'Survived', kind = 'bar', data = train_data)"
   ]
  },
  {
   "cell_type": "markdown",
   "id": "f8d74681",
   "metadata": {
    "papermill": {
     "duration": 0.057351,
     "end_time": "2021-09-20T21:12:47.873444",
     "exception": false,
     "start_time": "2021-09-20T21:12:47.816093",
     "status": "completed"
    },
    "tags": []
   },
   "source": [
    "**The previous chart is very interesting.** <br>\n",
    "**Females have a very high survival chance compared to male**<br>\n",
    "**Females survival chance is more than 70%**<br>\n",
    "**Men's chance of survival does not exceed 20%.**<br>\n",
    "**This could be due to men trying to save their own women,**<br>\n",
    "**such as wives, mothers and their daughters**<br>\n",
    "**They would rather save them from drowning than save themselves**"
   ]
  },
  {
   "cell_type": "code",
   "execution_count": 30,
   "id": "5375a99b",
   "metadata": {
    "execution": {
     "iopub.execute_input": "2021-09-20T21:12:47.995512Z",
     "iopub.status.busy": "2021-09-20T21:12:47.993681Z",
     "iopub.status.idle": "2021-09-20T21:12:47.998493Z",
     "shell.execute_reply": "2021-09-20T21:12:47.998934Z",
     "shell.execute_reply.started": "2021-09-20T21:11:09.510386Z"
    },
    "papermill": {
     "duration": 0.067945,
     "end_time": "2021-09-20T21:12:47.999117",
     "exception": false,
     "start_time": "2021-09-20T21:12:47.931172",
     "status": "completed"
    },
    "tags": []
   },
   "outputs": [
    {
     "data": {
      "text/plain": [
       "0    608\n",
       "1    209\n",
       "2     28\n",
       "4     18\n",
       "3     16\n",
       "8      7\n",
       "5      5\n",
       "Name: SibSp, dtype: int64"
      ]
     },
     "execution_count": 30,
     "metadata": {},
     "output_type": "execute_result"
    }
   ],
   "source": [
    "train_data['SibSp'].value_counts()"
   ]
  },
  {
   "cell_type": "code",
   "execution_count": 31,
   "id": "5da01ea6",
   "metadata": {
    "execution": {
     "iopub.execute_input": "2021-09-20T21:12:48.123750Z",
     "iopub.status.busy": "2021-09-20T21:12:48.120364Z",
     "iopub.status.idle": "2021-09-20T21:12:48.575908Z",
     "shell.execute_reply": "2021-09-20T21:12:48.576376Z",
     "shell.execute_reply.started": "2021-09-20T21:11:11.155487Z"
    },
    "papermill": {
     "duration": 0.518267,
     "end_time": "2021-09-20T21:12:48.576551",
     "exception": false,
     "start_time": "2021-09-20T21:12:48.058284",
     "status": "completed"
    },
    "tags": []
   },
   "outputs": [
    {
     "data": {
      "text/plain": [
       "<seaborn.axisgrid.FacetGrid at 0x7fd56d975210>"
      ]
     },
     "execution_count": 31,
     "metadata": {},
     "output_type": "execute_result"
    },
    {
     "data": {
      "image/png": "[encoded data removed]",
      "text/plain": [
       "<Figure size 360x360 with 1 Axes>"
      ]
     },
     "metadata": {
      "needs_background": "light"
     },
     "output_type": "display_data"
    }
   ],
   "source": [
    "sns.catplot(x = 'SibSp', y= 'Survived', kind = 'bar', data = train_data)"
   ]
  },
  {
   "cell_type": "code",
   "execution_count": 32,
   "id": "c2663dc8",
   "metadata": {
    "execution": {
     "iopub.execute_input": "2021-09-20T21:12:48.697462Z",
     "iopub.status.busy": "2021-09-20T21:12:48.696886Z",
     "iopub.status.idle": "2021-09-20T21:12:48.704539Z",
     "shell.execute_reply": "2021-09-20T21:12:48.704061Z",
     "shell.execute_reply.started": "2021-09-20T21:11:11.601998Z"
    },
    "papermill": {
     "duration": 0.068228,
     "end_time": "2021-09-20T21:12:48.704698",
     "exception": false,
     "start_time": "2021-09-20T21:12:48.636470",
     "status": "completed"
    },
    "tags": []
   },
   "outputs": [
    {
     "data": {
      "text/plain": [
       "0    678\n",
       "1    118\n",
       "2     80\n",
       "5      5\n",
       "3      5\n",
       "4      4\n",
       "6      1\n",
       "Name: Parch, dtype: int64"
      ]
     },
     "execution_count": 32,
     "metadata": {},
     "output_type": "execute_result"
    }
   ],
   "source": [
    "train_data['Parch'].value_counts()"
   ]
  },
  {
   "cell_type": "code",
   "execution_count": 33,
   "id": "25686513",
   "metadata": {
    "execution": {
     "iopub.execute_input": "2021-09-20T21:12:48.829198Z",
     "iopub.status.busy": "2021-09-20T21:12:48.828513Z",
     "iopub.status.idle": "2021-09-20T21:12:49.264210Z",
     "shell.execute_reply": "2021-09-20T21:12:49.263766Z",
     "shell.execute_reply.started": "2021-09-20T21:11:12.754429Z"
    },
    "papermill": {
     "duration": 0.499425,
     "end_time": "2021-09-20T21:12:49.264351",
     "exception": false,
     "start_time": "2021-09-20T21:12:48.764926",
     "status": "completed"
    },
    "tags": []
   },
   "outputs": [
    {
     "data": {
      "text/plain": [
       "<seaborn.axisgrid.FacetGrid at 0x7fd56d8713d0>"
      ]
     },
     "execution_count": 33,
     "metadata": {},
     "output_type": "execute_result"
    },
    {
     "data": {
      "image/png": "[encoded data removed]",
      "text/plain": [
       "<Figure size 360x360 with 1 Axes>"
      ]
     },
     "metadata": {
      "needs_background": "light"
     },
     "output_type": "display_data"
    }
   ],
   "source": [
    "sns.catplot(x = 'Parch', y= 'Survived', kind = 'bar', data = train_data)"
   ]
  },
  {
   "cell_type": "code",
   "execution_count": 34,
   "id": "9fd773fb",
   "metadata": {
    "execution": {
     "iopub.execute_input": "2021-09-20T21:12:49.390735Z",
     "iopub.status.busy": "2021-09-20T21:12:49.389787Z",
     "iopub.status.idle": "2021-09-20T21:12:49.718583Z",
     "shell.execute_reply": "2021-09-20T21:12:49.718087Z",
     "shell.execute_reply.started": "2021-09-20T21:11:13.163982Z"
    },
    "papermill": {
     "duration": 0.395493,
     "end_time": "2021-09-20T21:12:49.718749",
     "exception": false,
     "start_time": "2021-09-20T21:12:49.323256",
     "status": "completed"
    },
    "tags": []
   },
   "outputs": [
    {
     "data": {
      "image/png": "[encoded data removed]",
      "text/plain": [
       "<Figure size 720x720 with 1 Axes>"
      ]
     },
     "metadata": {
      "needs_background": "light"
     },
     "output_type": "display_data"
    }
   ],
   "source": [
    "fig, ax = plt.subplots(figsize = (10, 10))\n",
    "sns.histplot(x = train_data['Age'],  bins=20, hue = train_data['Survived'])\n",
    "plt.show()"
   ]
  },
  {
   "cell_type": "markdown",
   "id": "49507fed",
   "metadata": {
    "papermill": {
     "duration": 0.059339,
     "end_time": "2021-09-20T21:12:49.838311",
     "exception": false,
     "start_time": "2021-09-20T21:12:49.778972",
     "status": "completed"
    },
    "tags": []
   },
   "source": [
    "**The number of children who survived drowning is greater than the number of children who drowned**<br>\n",
    "**This is due to the parents trying to save them**<br>\n",
    "**and we can the the number of drowned passengers whose have age between 30 to 40 is more than survived passenger in the same age range by double**"
   ]
  },
  {
   "cell_type": "code",
   "execution_count": 35,
   "id": "fedfd277",
   "metadata": {
    "execution": {
     "iopub.execute_input": "2021-09-20T21:12:49.962409Z",
     "iopub.status.busy": "2021-09-20T21:12:49.961826Z",
     "iopub.status.idle": "2021-09-20T21:12:50.521681Z",
     "shell.execute_reply": "2021-09-20T21:12:50.521168Z",
     "shell.execute_reply.started": "2021-09-20T21:11:14.504477Z"
    },
    "papermill": {
     "duration": 0.623214,
     "end_time": "2021-09-20T21:12:50.521820",
     "exception": false,
     "start_time": "2021-09-20T21:12:49.898606",
     "status": "completed"
    },
    "tags": []
   },
   "outputs": [
    {
     "data": {
      "text/plain": [
       "<seaborn.axisgrid.FacetGrid at 0x7fd56d740150>"
      ]
     },
     "execution_count": 35,
     "metadata": {},
     "output_type": "execute_result"
    },
    {
     "data": {
      "image/png": "[encoded data removed]",
      "text/plain": [
       "<Figure size 430.5x360 with 1 Axes>"
      ]
     },
     "metadata": {
      "needs_background": "light"
     },
     "output_type": "display_data"
    }
   ],
   "source": [
    "sns.catplot(x = 'Pclass', y = 'Survived', data = train_data, kind = 'point', hue = 'Sex')"
   ]
  },
  {
   "cell_type": "markdown",
   "id": "e0144592",
   "metadata": {
    "papermill": {
     "duration": 0.059788,
     "end_time": "2021-09-20T21:12:50.642058",
     "exception": false,
     "start_time": "2021-09-20T21:12:50.582270",
     "status": "completed"
    },
    "tags": []
   },
   "source": [
    "**We know in the previous figures the all femals and passenger in First class have a better survival chance**<br>\n",
    "**This figure shows**<br>\n",
    "**Almost all females in the first class survive from drowning**<br>\n",
    "**and the females in the second class has a very high chane**"
   ]
  },
  {
   "cell_type": "code",
   "execution_count": 36,
   "id": "d2ff7433",
   "metadata": {
    "execution": {
     "iopub.execute_input": "2021-09-20T21:12:50.766193Z",
     "iopub.status.busy": "2021-09-20T21:12:50.765596Z",
     "iopub.status.idle": "2021-09-20T21:12:51.297564Z",
     "shell.execute_reply": "2021-09-20T21:12:51.298000Z",
     "shell.execute_reply.started": "2021-09-20T21:11:16.301553Z"
    },
    "papermill": {
     "duration": 0.595246,
     "end_time": "2021-09-20T21:12:51.298182",
     "exception": false,
     "start_time": "2021-09-20T21:12:50.702936",
     "status": "completed"
    },
    "tags": []
   },
   "outputs": [
    {
     "data": {
      "text/plain": [
       "<seaborn.axisgrid.FacetGrid at 0x7fd56d6404d0>"
      ]
     },
     "execution_count": 36,
     "metadata": {},
     "output_type": "execute_result"
    },
    {
     "data": {
      "image/png": "[encoded data removed]",
      "text/plain": [
       "<Figure size 430.5x360 with 1 Axes>"
      ]
     },
     "metadata": {
      "needs_background": "light"
     },
     "output_type": "display_data"
    }
   ],
   "source": [
    "sns.catplot(x = 'Embarked', y = 'Survived', data = train_data, kind = 'point', hue = 'Sex')"
   ]
  },
  {
   "cell_type": "markdown",
   "id": "434e66bd",
   "metadata": {
    "papermill": {
     "duration": 0.063685,
     "end_time": "2021-09-20T21:12:51.474873",
     "exception": false,
     "start_time": "2021-09-20T21:12:51.411188",
     "status": "completed"
    },
    "tags": []
   },
   "source": [
    "**We know in the previous figures the all femals and passenger in C Embarked have a better survival chance**<br>\n",
    "**This figure shows**<br>\n",
    "**females in the C Embarked have a high survival chance**<br>"
   ]
  },
  {
   "cell_type": "code",
   "execution_count": 37,
   "id": "fcf9dda8",
   "metadata": {
    "execution": {
     "iopub.execute_input": "2021-09-20T21:12:51.605991Z",
     "iopub.status.busy": "2021-09-20T21:12:51.605385Z",
     "iopub.status.idle": "2021-09-20T21:12:52.925575Z",
     "shell.execute_reply": "2021-09-20T21:12:52.926034Z",
     "shell.execute_reply.started": "2021-09-20T21:11:18.567691Z"
    },
    "papermill": {
     "duration": 1.389219,
     "end_time": "2021-09-20T21:12:52.926201",
     "exception": false,
     "start_time": "2021-09-20T21:12:51.536982",
     "status": "completed"
    },
    "tags": []
   },
   "outputs": [
    {
     "data": {
      "text/plain": [
       "<seaborn.axisgrid.FacetGrid at 0x7fd56d6036d0>"
      ]
     },
     "execution_count": 37,
     "metadata": {},
     "output_type": "execute_result"
    },
    {
     "data": {
      "image/png": "[encoded data removed]",
      "text/plain": [
       "<Figure size 2520x360 with 7 Axes>"
      ]
     },
     "metadata": {
      "needs_background": "light"
     },
     "output_type": "display_data"
    }
   ],
   "source": [
    "sns.factorplot(x = 'Sex', y = 'Survived', data = train_data, kind = 'point', col = 'SibSp')"
   ]
  },
  {
   "cell_type": "code",
   "execution_count": 38,
   "id": "7c75c50c",
   "metadata": {
    "execution": {
     "iopub.execute_input": "2021-09-20T21:12:53.057510Z",
     "iopub.status.busy": "2021-09-20T21:12:53.056946Z",
     "iopub.status.idle": "2021-09-20T21:12:53.408167Z",
     "shell.execute_reply": "2021-09-20T21:12:53.407715Z",
     "shell.execute_reply.started": "2021-09-20T21:11:21.224517Z"
    },
    "papermill": {
     "duration": 0.418823,
     "end_time": "2021-09-20T21:12:53.408300",
     "exception": false,
     "start_time": "2021-09-20T21:12:52.989477",
     "status": "completed"
    },
    "tags": []
   },
   "outputs": [
    {
     "data": {
      "text/plain": [
       "<AxesSubplot:xlabel='Fare', ylabel='Age'>"
      ]
     },
     "execution_count": 38,
     "metadata": {},
     "output_type": "execute_result"
    },
    {
     "data": {
      "image/png": "[encoded data removed]",
      "text/plain": [
       "<Figure size 432x288 with 1 Axes>"
      ]
     },
     "metadata": {
      "needs_background": "light"
     },
     "output_type": "display_data"
    }
   ],
   "source": [
    "sns.scatterplot(y = 'Age', x = 'Fare', data = train_data, hue = 'Survived')"
   ]
  },
  {
   "cell_type": "markdown",
   "id": "941a2f4a",
   "metadata": {
    "papermill": {
     "duration": 0.064722,
     "end_time": "2021-09-20T21:12:53.537860",
     "exception": false,
     "start_time": "2021-09-20T21:12:53.473138",
     "status": "completed"
    },
    "tags": []
   },
   "source": [
    "\n",
    "**Passengers with high-priced tickets have a higher chance of survival compared to passenger with low-priced ticketd**"
   ]
  },
  {
   "cell_type": "markdown",
   "id": "b4896277",
   "metadata": {
    "papermill": {
     "duration": 0.065012,
     "end_time": "2021-09-20T21:12:53.667702",
     "exception": false,
     "start_time": "2021-09-20T21:12:53.602690",
     "status": "completed"
    },
    "tags": []
   },
   "source": [
    "# Dummy variables\n",
    "**Convert categorical variables into dummy**"
   ]
  },
  {
   "cell_type": "code",
   "execution_count": 39,
   "id": "cd50df7f",
   "metadata": {
    "execution": {
     "iopub.execute_input": "2021-09-20T21:12:53.802008Z",
     "iopub.status.busy": "2021-09-20T21:12:53.801423Z",
     "iopub.status.idle": "2021-09-20T21:12:53.803786Z",
     "shell.execute_reply": "2021-09-20T21:12:53.804424Z",
     "shell.execute_reply.started": "2021-09-20T21:11:24.277612Z"
    },
    "papermill": {
     "duration": 0.072499,
     "end_time": "2021-09-20T21:12:53.804659",
     "exception": false,
     "start_time": "2021-09-20T21:12:53.732160",
     "status": "completed"
    },
    "tags": []
   },
   "outputs": [
    {
     "name": "stdout",
     "output_type": "stream",
     "text": [
      "(891, 8)\n",
      "(418, 7)\n"
     ]
    }
   ],
   "source": [
    "print(train_data.shape)\n",
    "print(test_data.shape)"
   ]
  },
  {
   "cell_type": "code",
   "execution_count": 40,
   "id": "ff5a4e7f",
   "metadata": {
    "execution": {
     "iopub.execute_input": "2021-09-20T21:12:53.942262Z",
     "iopub.status.busy": "2021-09-20T21:12:53.941542Z",
     "iopub.status.idle": "2021-09-20T21:12:53.954158Z",
     "shell.execute_reply": "2021-09-20T21:12:53.953553Z",
     "shell.execute_reply.started": "2021-09-20T21:11:25.392334Z"
    },
    "papermill": {
     "duration": 0.081952,
     "end_time": "2021-09-20T21:12:53.954309",
     "exception": false,
     "start_time": "2021-09-20T21:12:53.872357",
     "status": "completed"
    },
    "tags": []
   },
   "outputs": [
    {
     "data": {
      "text/html": [
       "<div>\n",
       "<style scoped>\n",
       "    .dataframe tbody tr th:only-of-type {\n",
       "        vertical-align: middle;\n",
       "    }\n",
       "\n",
       "    .dataframe tbody tr th {\n",
       "        vertical-align: top;\n",
       "    }\n",
       "\n",
       "    .dataframe thead th {\n",
       "        text-align: right;\n",
       "    }\n",
       "</style>\n",
       "<table border=\"1\" class=\"dataframe\">\n",
       "  <thead>\n",
       "    <tr style=\"text-align: right;\">\n",
       "      <th></th>\n",
       "      <th>Survived</th>\n",
       "      <th>Pclass</th>\n",
       "      <th>Sex</th>\n",
       "      <th>Age</th>\n",
       "      <th>SibSp</th>\n",
       "      <th>Parch</th>\n",
       "      <th>Fare</th>\n",
       "      <th>Embarked</th>\n",
       "    </tr>\n",
       "  </thead>\n",
       "  <tbody>\n",
       "    <tr>\n",
       "      <th>0</th>\n",
       "      <td>0</td>\n",
       "      <td>3</td>\n",
       "      <td>male</td>\n",
       "      <td>22.0</td>\n",
       "      <td>1</td>\n",
       "      <td>0</td>\n",
       "      <td>7.2500</td>\n",
       "      <td>S</td>\n",
       "    </tr>\n",
       "    <tr>\n",
       "      <th>1</th>\n",
       "      <td>1</td>\n",
       "      <td>1</td>\n",
       "      <td>female</td>\n",
       "      <td>38.0</td>\n",
       "      <td>1</td>\n",
       "      <td>0</td>\n",
       "      <td>71.2833</td>\n",
       "      <td>C</td>\n",
       "    </tr>\n",
       "    <tr>\n",
       "      <th>2</th>\n",
       "      <td>1</td>\n",
       "      <td>3</td>\n",
       "      <td>female</td>\n",
       "      <td>26.0</td>\n",
       "      <td>0</td>\n",
       "      <td>0</td>\n",
       "      <td>7.9250</td>\n",
       "      <td>S</td>\n",
       "    </tr>\n",
       "    <tr>\n",
       "      <th>3</th>\n",
       "      <td>1</td>\n",
       "      <td>1</td>\n",
       "      <td>female</td>\n",
       "      <td>35.0</td>\n",
       "      <td>1</td>\n",
       "      <td>0</td>\n",
       "      <td>53.1000</td>\n",
       "      <td>S</td>\n",
       "    </tr>\n",
       "    <tr>\n",
       "      <th>4</th>\n",
       "      <td>0</td>\n",
       "      <td>3</td>\n",
       "      <td>male</td>\n",
       "      <td>35.0</td>\n",
       "      <td>0</td>\n",
       "      <td>0</td>\n",
       "      <td>8.0500</td>\n",
       "      <td>S</td>\n",
       "    </tr>\n",
       "  </tbody>\n",
       "</table>\n",
       "</div>"
      ],
      "text/plain": [
       "   Survived  Pclass     Sex   Age  SibSp  Parch     Fare Embarked\n",
       "0         0       3    male  22.0      1      0   7.2500        S\n",
       "1         1       1  female  38.0      1      0  71.2833        C\n",
       "2         1       3  female  26.0      0      0   7.9250        S\n",
       "3         1       1  female  35.0      1      0  53.1000        S\n",
       "4         0       3    male  35.0      0      0   8.0500        S"
      ]
     },
     "execution_count": 40,
     "metadata": {},
     "output_type": "execute_result"
    }
   ],
   "source": [
    "train_data.head()"
   ]
  },
  {
   "cell_type": "code",
   "execution_count": 41,
   "id": "5fd53167",
   "metadata": {
    "execution": {
     "iopub.execute_input": "2021-09-20T21:12:54.096518Z",
     "iopub.status.busy": "2021-09-20T21:12:54.095901Z",
     "iopub.status.idle": "2021-09-20T21:12:54.103864Z",
     "shell.execute_reply": "2021-09-20T21:12:54.103289Z",
     "shell.execute_reply.started": "2021-09-20T21:11:26.419325Z"
    },
    "papermill": {
     "duration": 0.082103,
     "end_time": "2021-09-20T21:12:54.104011",
     "exception": false,
     "start_time": "2021-09-20T21:12:54.021908",
     "status": "completed"
    },
    "tags": []
   },
   "outputs": [
    {
     "data": {
      "text/html": [
       "<div>\n",
       "<style scoped>\n",
       "    .dataframe tbody tr th:only-of-type {\n",
       "        vertical-align: middle;\n",
       "    }\n",
       "\n",
       "    .dataframe tbody tr th {\n",
       "        vertical-align: top;\n",
       "    }\n",
       "\n",
       "    .dataframe thead th {\n",
       "        text-align: right;\n",
       "    }\n",
       "</style>\n",
       "<table border=\"1\" class=\"dataframe\">\n",
       "  <thead>\n",
       "    <tr style=\"text-align: right;\">\n",
       "      <th></th>\n",
       "      <th>Pclass</th>\n",
       "      <th>Sex</th>\n",
       "      <th>Age</th>\n",
       "      <th>SibSp</th>\n",
       "      <th>Parch</th>\n",
       "      <th>Fare</th>\n",
       "      <th>Embarked</th>\n",
       "    </tr>\n",
       "  </thead>\n",
       "  <tbody>\n",
       "    <tr>\n",
       "      <th>0</th>\n",
       "      <td>3</td>\n",
       "      <td>male</td>\n",
       "      <td>34.5</td>\n",
       "      <td>0</td>\n",
       "      <td>0</td>\n",
       "      <td>7.8292</td>\n",
       "      <td>Q</td>\n",
       "    </tr>\n",
       "    <tr>\n",
       "      <th>1</th>\n",
       "      <td>3</td>\n",
       "      <td>female</td>\n",
       "      <td>47.0</td>\n",
       "      <td>1</td>\n",
       "      <td>0</td>\n",
       "      <td>7.0000</td>\n",
       "      <td>S</td>\n",
       "    </tr>\n",
       "    <tr>\n",
       "      <th>2</th>\n",
       "      <td>2</td>\n",
       "      <td>male</td>\n",
       "      <td>62.0</td>\n",
       "      <td>0</td>\n",
       "      <td>0</td>\n",
       "      <td>9.6875</td>\n",
       "      <td>Q</td>\n",
       "    </tr>\n",
       "    <tr>\n",
       "      <th>3</th>\n",
       "      <td>3</td>\n",
       "      <td>male</td>\n",
       "      <td>27.0</td>\n",
       "      <td>0</td>\n",
       "      <td>0</td>\n",
       "      <td>8.6625</td>\n",
       "      <td>S</td>\n",
       "    </tr>\n",
       "    <tr>\n",
       "      <th>4</th>\n",
       "      <td>3</td>\n",
       "      <td>female</td>\n",
       "      <td>22.0</td>\n",
       "      <td>1</td>\n",
       "      <td>1</td>\n",
       "      <td>12.2875</td>\n",
       "      <td>S</td>\n",
       "    </tr>\n",
       "  </tbody>\n",
       "</table>\n",
       "</div>"
      ],
      "text/plain": [
       "   Pclass     Sex   Age  SibSp  Parch     Fare Embarked\n",
       "0       3    male  34.5      0      0   7.8292        Q\n",
       "1       3  female  47.0      1      0   7.0000        S\n",
       "2       2    male  62.0      0      0   9.6875        Q\n",
       "3       3    male  27.0      0      0   8.6625        S\n",
       "4       3  female  22.0      1      1  12.2875        S"
      ]
     },
     "execution_count": 41,
     "metadata": {},
     "output_type": "execute_result"
    }
   ],
   "source": [
    "test_data.head()"
   ]
  },
  {
   "cell_type": "code",
   "execution_count": 42,
   "id": "2664235d",
   "metadata": {
    "execution": {
     "iopub.execute_input": "2021-09-20T21:12:54.239595Z",
     "iopub.status.busy": "2021-09-20T21:12:54.239041Z",
     "iopub.status.idle": "2021-09-20T21:12:54.256449Z",
     "shell.execute_reply": "2021-09-20T21:12:54.255968Z",
     "shell.execute_reply.started": "2021-09-20T21:11:27.405113Z"
    },
    "papermill": {
     "duration": 0.086417,
     "end_time": "2021-09-20T21:12:54.256583",
     "exception": false,
     "start_time": "2021-09-20T21:12:54.170166",
     "status": "completed"
    },
    "tags": []
   },
   "outputs": [
    {
     "data": {
      "text/html": [
       "<div>\n",
       "<style scoped>\n",
       "    .dataframe tbody tr th:only-of-type {\n",
       "        vertical-align: middle;\n",
       "    }\n",
       "\n",
       "    .dataframe tbody tr th {\n",
       "        vertical-align: top;\n",
       "    }\n",
       "\n",
       "    .dataframe thead th {\n",
       "        text-align: right;\n",
       "    }\n",
       "</style>\n",
       "<table border=\"1\" class=\"dataframe\">\n",
       "  <thead>\n",
       "    <tr style=\"text-align: right;\">\n",
       "      <th></th>\n",
       "      <th>Survived</th>\n",
       "      <th>Pclass</th>\n",
       "      <th>Age</th>\n",
       "      <th>SibSp</th>\n",
       "      <th>Parch</th>\n",
       "      <th>Fare</th>\n",
       "      <th>Sex_female</th>\n",
       "      <th>Sex_male</th>\n",
       "      <th>Embarked_C</th>\n",
       "      <th>Embarked_Q</th>\n",
       "      <th>Embarked_S</th>\n",
       "    </tr>\n",
       "  </thead>\n",
       "  <tbody>\n",
       "    <tr>\n",
       "      <th>0</th>\n",
       "      <td>0</td>\n",
       "      <td>3</td>\n",
       "      <td>22.0</td>\n",
       "      <td>1</td>\n",
       "      <td>0</td>\n",
       "      <td>7.2500</td>\n",
       "      <td>0</td>\n",
       "      <td>1</td>\n",
       "      <td>0</td>\n",
       "      <td>0</td>\n",
       "      <td>1</td>\n",
       "    </tr>\n",
       "    <tr>\n",
       "      <th>1</th>\n",
       "      <td>1</td>\n",
       "      <td>1</td>\n",
       "      <td>38.0</td>\n",
       "      <td>1</td>\n",
       "      <td>0</td>\n",
       "      <td>71.2833</td>\n",
       "      <td>1</td>\n",
       "      <td>0</td>\n",
       "      <td>1</td>\n",
       "      <td>0</td>\n",
       "      <td>0</td>\n",
       "    </tr>\n",
       "    <tr>\n",
       "      <th>2</th>\n",
       "      <td>1</td>\n",
       "      <td>3</td>\n",
       "      <td>26.0</td>\n",
       "      <td>0</td>\n",
       "      <td>0</td>\n",
       "      <td>7.9250</td>\n",
       "      <td>1</td>\n",
       "      <td>0</td>\n",
       "      <td>0</td>\n",
       "      <td>0</td>\n",
       "      <td>1</td>\n",
       "    </tr>\n",
       "    <tr>\n",
       "      <th>3</th>\n",
       "      <td>1</td>\n",
       "      <td>1</td>\n",
       "      <td>35.0</td>\n",
       "      <td>1</td>\n",
       "      <td>0</td>\n",
       "      <td>53.1000</td>\n",
       "      <td>1</td>\n",
       "      <td>0</td>\n",
       "      <td>0</td>\n",
       "      <td>0</td>\n",
       "      <td>1</td>\n",
       "    </tr>\n",
       "    <tr>\n",
       "      <th>4</th>\n",
       "      <td>0</td>\n",
       "      <td>3</td>\n",
       "      <td>35.0</td>\n",
       "      <td>0</td>\n",
       "      <td>0</td>\n",
       "      <td>8.0500</td>\n",
       "      <td>0</td>\n",
       "      <td>1</td>\n",
       "      <td>0</td>\n",
       "      <td>0</td>\n",
       "      <td>1</td>\n",
       "    </tr>\n",
       "  </tbody>\n",
       "</table>\n",
       "</div>"
      ],
      "text/plain": [
       "   Survived  Pclass   Age  SibSp  Parch     Fare  Sex_female  Sex_male  \\\n",
       "0         0       3  22.0      1      0   7.2500           0         1   \n",
       "1         1       1  38.0      1      0  71.2833           1         0   \n",
       "2         1       3  26.0      0      0   7.9250           1         0   \n",
       "3         1       1  35.0      1      0  53.1000           1         0   \n",
       "4         0       3  35.0      0      0   8.0500           0         1   \n",
       "\n",
       "   Embarked_C  Embarked_Q  Embarked_S  \n",
       "0           0           0           1  \n",
       "1           1           0           0  \n",
       "2           0           0           1  \n",
       "3           0           0           1  \n",
       "4           0           0           1  "
      ]
     },
     "execution_count": 42,
     "metadata": {},
     "output_type": "execute_result"
    }
   ],
   "source": [
    "train_data_2 = pd.get_dummies(train_data)\n",
    "train_data_2.head()"
   ]
  },
  {
   "cell_type": "code",
   "execution_count": 43,
   "id": "9d7533ac",
   "metadata": {
    "execution": {
     "iopub.execute_input": "2021-09-20T21:12:54.396908Z",
     "iopub.status.busy": "2021-09-20T21:12:54.396308Z",
     "iopub.status.idle": "2021-09-20T21:12:54.410420Z",
     "shell.execute_reply": "2021-09-20T21:12:54.410995Z",
     "shell.execute_reply.started": "2021-09-20T21:11:28.445895Z"
    },
    "papermill": {
     "duration": 0.087776,
     "end_time": "2021-09-20T21:12:54.411181",
     "exception": false,
     "start_time": "2021-09-20T21:12:54.323405",
     "status": "completed"
    },
    "tags": []
   },
   "outputs": [
    {
     "data": {
      "text/html": [
       "<div>\n",
       "<style scoped>\n",
       "    .dataframe tbody tr th:only-of-type {\n",
       "        vertical-align: middle;\n",
       "    }\n",
       "\n",
       "    .dataframe tbody tr th {\n",
       "        vertical-align: top;\n",
       "    }\n",
       "\n",
       "    .dataframe thead th {\n",
       "        text-align: right;\n",
       "    }\n",
       "</style>\n",
       "<table border=\"1\" class=\"dataframe\">\n",
       "  <thead>\n",
       "    <tr style=\"text-align: right;\">\n",
       "      <th></th>\n",
       "      <th>Pclass</th>\n",
       "      <th>Age</th>\n",
       "      <th>SibSp</th>\n",
       "      <th>Parch</th>\n",
       "      <th>Fare</th>\n",
       "      <th>Sex_female</th>\n",
       "      <th>Sex_male</th>\n",
       "      <th>Embarked_C</th>\n",
       "      <th>Embarked_Q</th>\n",
       "      <th>Embarked_S</th>\n",
       "    </tr>\n",
       "  </thead>\n",
       "  <tbody>\n",
       "    <tr>\n",
       "      <th>0</th>\n",
       "      <td>3</td>\n",
       "      <td>34.5</td>\n",
       "      <td>0</td>\n",
       "      <td>0</td>\n",
       "      <td>7.8292</td>\n",
       "      <td>0</td>\n",
       "      <td>1</td>\n",
       "      <td>0</td>\n",
       "      <td>1</td>\n",
       "      <td>0</td>\n",
       "    </tr>\n",
       "    <tr>\n",
       "      <th>1</th>\n",
       "      <td>3</td>\n",
       "      <td>47.0</td>\n",
       "      <td>1</td>\n",
       "      <td>0</td>\n",
       "      <td>7.0000</td>\n",
       "      <td>1</td>\n",
       "      <td>0</td>\n",
       "      <td>0</td>\n",
       "      <td>0</td>\n",
       "      <td>1</td>\n",
       "    </tr>\n",
       "    <tr>\n",
       "      <th>2</th>\n",
       "      <td>2</td>\n",
       "      <td>62.0</td>\n",
       "      <td>0</td>\n",
       "      <td>0</td>\n",
       "      <td>9.6875</td>\n",
       "      <td>0</td>\n",
       "      <td>1</td>\n",
       "      <td>0</td>\n",
       "      <td>1</td>\n",
       "      <td>0</td>\n",
       "    </tr>\n",
       "    <tr>\n",
       "      <th>3</th>\n",
       "      <td>3</td>\n",
       "      <td>27.0</td>\n",
       "      <td>0</td>\n",
       "      <td>0</td>\n",
       "      <td>8.6625</td>\n",
       "      <td>0</td>\n",
       "      <td>1</td>\n",
       "      <td>0</td>\n",
       "      <td>0</td>\n",
       "      <td>1</td>\n",
       "    </tr>\n",
       "    <tr>\n",
       "      <th>4</th>\n",
       "      <td>3</td>\n",
       "      <td>22.0</td>\n",
       "      <td>1</td>\n",
       "      <td>1</td>\n",
       "      <td>12.2875</td>\n",
       "      <td>1</td>\n",
       "      <td>0</td>\n",
       "      <td>0</td>\n",
       "      <td>0</td>\n",
       "      <td>1</td>\n",
       "    </tr>\n",
       "  </tbody>\n",
       "</table>\n",
       "</div>"
      ],
      "text/plain": [
       "   Pclass   Age  SibSp  Parch     Fare  Sex_female  Sex_male  Embarked_C  \\\n",
       "0       3  34.5      0      0   7.8292           0         1           0   \n",
       "1       3  47.0      1      0   7.0000           1         0           0   \n",
       "2       2  62.0      0      0   9.6875           0         1           0   \n",
       "3       3  27.0      0      0   8.6625           0         1           0   \n",
       "4       3  22.0      1      1  12.2875           1         0           0   \n",
       "\n",
       "   Embarked_Q  Embarked_S  \n",
       "0           1           0  \n",
       "1           0           1  \n",
       "2           1           0  \n",
       "3           0           1  \n",
       "4           0           1  "
      ]
     },
     "execution_count": 43,
     "metadata": {},
     "output_type": "execute_result"
    }
   ],
   "source": [
    "test_data_2 = pd.get_dummies(test_data)\n",
    "test_data_2.head()"
   ]
  },
  {
   "cell_type": "code",
   "execution_count": 44,
   "id": "89f544b6",
   "metadata": {
    "execution": {
     "iopub.execute_input": "2021-09-20T21:12:54.547866Z",
     "iopub.status.busy": "2021-09-20T21:12:54.547282Z",
     "iopub.status.idle": "2021-09-20T21:12:54.554396Z",
     "shell.execute_reply": "2021-09-20T21:12:54.553911Z",
     "shell.execute_reply.started": "2021-09-20T21:11:29.582541Z"
    },
    "papermill": {
     "duration": 0.075953,
     "end_time": "2021-09-20T21:12:54.554543",
     "exception": false,
     "start_time": "2021-09-20T21:12:54.478590",
     "status": "completed"
    },
    "tags": []
   },
   "outputs": [
    {
     "name": "stdout",
     "output_type": "stream",
     "text": [
      "(891, 11)\n",
      "(418, 10)\n"
     ]
    }
   ],
   "source": [
    "print(train_data_2.shape)\n",
    "print(test_data_2.shape)"
   ]
  },
  {
   "cell_type": "markdown",
   "id": "a4ffdf31",
   "metadata": {
    "papermill": {
     "duration": 0.066882,
     "end_time": "2021-09-20T21:12:54.688813",
     "exception": false,
     "start_time": "2021-09-20T21:12:54.621931",
     "status": "completed"
    },
    "tags": []
   },
   "source": [
    "# Spliting the data into training and test"
   ]
  },
  {
   "cell_type": "code",
   "execution_count": 45,
   "id": "e084d0f4",
   "metadata": {
    "execution": {
     "iopub.execute_input": "2021-09-20T21:12:54.832446Z",
     "iopub.status.busy": "2021-09-20T21:12:54.831530Z",
     "iopub.status.idle": "2021-09-20T21:12:54.837986Z",
     "shell.execute_reply": "2021-09-20T21:12:54.838387Z",
     "shell.execute_reply.started": "2021-09-20T21:11:31.613798Z"
    },
    "papermill": {
     "duration": 0.081472,
     "end_time": "2021-09-20T21:12:54.838556",
     "exception": false,
     "start_time": "2021-09-20T21:12:54.757084",
     "status": "completed"
    },
    "tags": []
   },
   "outputs": [
    {
     "name": "stdout",
     "output_type": "stream",
     "text": [
      "x train shape (891, 10)\n",
      "y train shape (891, 1)\n",
      "x test  shape (418, 10)\n",
      "y test  shape (418, 1)\n"
     ]
    }
   ],
   "source": [
    "X_train = train_data_2.drop('Survived', axis = 1).values\n",
    "y_train = train_data_2['Survived'].values.reshape((-1, 1))\n",
    "X_test = test_data_2.values\n",
    "y_test = submission_data.drop('PassengerId', axis = 1).values.reshape((-1, 1))\n",
    "\n",
    "print('x train shape {}'.format(X_train.shape))\n",
    "print('y train shape {}'.format(y_train.shape))\n",
    "print('x test  shape {}'.format(X_test.shape))\n",
    "print('y test  shape {}'.format(y_test.shape))"
   ]
  },
  {
   "cell_type": "markdown",
   "id": "fa4e5d38",
   "metadata": {
    "papermill": {
     "duration": 0.067244,
     "end_time": "2021-09-20T21:12:54.974013",
     "exception": false,
     "start_time": "2021-09-20T21:12:54.906769",
     "status": "completed"
    },
    "tags": []
   },
   "source": [
    "# ***Logistic Regression***"
   ]
  },
  {
   "cell_type": "code",
   "execution_count": 46,
   "id": "e7fd324a",
   "metadata": {
    "execution": {
     "iopub.execute_input": "2021-09-20T21:12:55.116136Z",
     "iopub.status.busy": "2021-09-20T21:12:55.114401Z",
     "iopub.status.idle": "2021-09-20T21:12:55.118808Z",
     "shell.execute_reply": "2021-09-20T21:12:55.118217Z",
     "shell.execute_reply.started": "2021-09-20T21:11:33.648980Z"
    },
    "papermill": {
     "duration": 0.076562,
     "end_time": "2021-09-20T21:12:55.118951",
     "exception": false,
     "start_time": "2021-09-20T21:12:55.042389",
     "status": "completed"
    },
    "tags": []
   },
   "outputs": [],
   "source": [
    "logistic_model = LogisticRegression(solver = 'liblinear')"
   ]
  },
  {
   "cell_type": "code",
   "execution_count": 47,
   "id": "14b1e67b",
   "metadata": {
    "execution": {
     "iopub.execute_input": "2021-09-20T21:12:55.261066Z",
     "iopub.status.busy": "2021-09-20T21:12:55.260460Z",
     "iopub.status.idle": "2021-09-20T21:12:55.278815Z",
     "shell.execute_reply": "2021-09-20T21:12:55.277930Z",
     "shell.execute_reply.started": "2021-09-20T21:11:34.794676Z"
    },
    "papermill": {
     "duration": 0.090166,
     "end_time": "2021-09-20T21:12:55.279002",
     "exception": false,
     "start_time": "2021-09-20T21:12:55.188836",
     "status": "completed"
    },
    "tags": []
   },
   "outputs": [
    {
     "name": "stdout",
     "output_type": "stream",
     "text": [
      "80.02244668911335\n",
      "94.49760765550239\n",
      "[[254  12]\n",
      " [ 11 141]]\n",
      "              precision    recall  f1-score   support\n",
      "\n",
      "           0       0.96      0.95      0.96       266\n",
      "           1       0.92      0.93      0.92       152\n",
      "\n",
      "    accuracy                           0.94       418\n",
      "   macro avg       0.94      0.94      0.94       418\n",
      "weighted avg       0.95      0.94      0.95       418\n",
      "\n"
     ]
    }
   ],
   "source": [
    "logistic_model.fit(X_train, y_train)\n",
    "y_pred = logistic_model.predict(X_test)\n",
    "print(logistic_model.score(X_train,y_train)*100)\n",
    "print(accuracy_score(y_test, y_pred)*100)\n",
    "print(confusion_matrix(y_test, y_pred))\n",
    "print(classification_report(y_test, y_pred))"
   ]
  },
  {
   "cell_type": "markdown",
   "id": "119e1ef1",
   "metadata": {
    "papermill": {
     "duration": 0.067427,
     "end_time": "2021-09-20T21:12:55.415385",
     "exception": false,
     "start_time": "2021-09-20T21:12:55.347958",
     "status": "completed"
    },
    "tags": []
   },
   "source": [
    "# ***SVM classifier***"
   ]
  },
  {
   "cell_type": "code",
   "execution_count": 48,
   "id": "28362dc8",
   "metadata": {
    "execution": {
     "iopub.execute_input": "2021-09-20T21:12:55.555929Z",
     "iopub.status.busy": "2021-09-20T21:12:55.555306Z",
     "iopub.status.idle": "2021-09-20T21:12:55.557102Z",
     "shell.execute_reply": "2021-09-20T21:12:55.556518Z",
     "shell.execute_reply.started": "2021-09-20T21:11:36.797049Z"
    },
    "papermill": {
     "duration": 0.074174,
     "end_time": "2021-09-20T21:12:55.557246",
     "exception": false,
     "start_time": "2021-09-20T21:12:55.483072",
     "status": "completed"
    },
    "tags": []
   },
   "outputs": [],
   "source": [
    "SVC_class = SVC(C = 0.1, kernel = 'linear')"
   ]
  },
  {
   "cell_type": "code",
   "execution_count": 49,
   "id": "a2ba430a",
   "metadata": {
    "execution": {
     "iopub.execute_input": "2021-09-20T21:12:55.702976Z",
     "iopub.status.busy": "2021-09-20T21:12:55.699274Z",
     "iopub.status.idle": "2021-09-20T21:12:56.561304Z",
     "shell.execute_reply": "2021-09-20T21:12:56.560775Z",
     "shell.execute_reply.started": "2021-09-20T21:11:37.890041Z"
    },
    "papermill": {
     "duration": 0.937123,
     "end_time": "2021-09-20T21:12:56.561435",
     "exception": false,
     "start_time": "2021-09-20T21:12:55.624312",
     "status": "completed"
    },
    "tags": []
   },
   "outputs": [
    {
     "name": "stdout",
     "output_type": "stream",
     "text": [
      "78.67564534231201\n",
      "100.0\n",
      "[[266   0]\n",
      " [  0 152]]\n",
      "              precision    recall  f1-score   support\n",
      "\n",
      "           0       1.00      1.00      1.00       266\n",
      "           1       1.00      1.00      1.00       152\n",
      "\n",
      "    accuracy                           1.00       418\n",
      "   macro avg       1.00      1.00      1.00       418\n",
      "weighted avg       1.00      1.00      1.00       418\n",
      "\n"
     ]
    }
   ],
   "source": [
    "SVC_class.fit(X_train,y_train)\n",
    "y_pred = SVC_class.predict(X_test)\n",
    "print(SVC_class.score(X_train,y_train)*100)\n",
    "print(accuracy_score(y_test, y_pred)*100)\n",
    "print(confusion_matrix(y_test, y_pred))\n",
    "print(classification_report(y_test, y_pred))"
   ]
  },
  {
   "cell_type": "markdown",
   "id": "b98f41aa",
   "metadata": {
    "papermill": {
     "duration": 0.070347,
     "end_time": "2021-09-20T21:12:56.699110",
     "exception": false,
     "start_time": "2021-09-20T21:12:56.628763",
     "status": "completed"
    },
    "tags": []
   },
   "source": [
    "# ***Decision Tree Classifier***"
   ]
  },
  {
   "cell_type": "code",
   "execution_count": 50,
   "id": "9c9649a7",
   "metadata": {
    "execution": {
     "iopub.execute_input": "2021-09-20T21:12:56.841878Z",
     "iopub.status.busy": "2021-09-20T21:12:56.841149Z",
     "iopub.status.idle": "2021-09-20T21:12:56.844148Z",
     "shell.execute_reply": "2021-09-20T21:12:56.843631Z",
     "shell.execute_reply.started": "2021-09-20T21:11:40.144032Z"
    },
    "papermill": {
     "duration": 0.076529,
     "end_time": "2021-09-20T21:12:56.844288",
     "exception": false,
     "start_time": "2021-09-20T21:12:56.767759",
     "status": "completed"
    },
    "tags": []
   },
   "outputs": [],
   "source": [
    "tree_class = DecisionTreeClassifier(criterion='gini', max_depth=3, splitter='best', random_state=1)"
   ]
  },
  {
   "cell_type": "code",
   "execution_count": 51,
   "id": "0a39c769",
   "metadata": {
    "execution": {
     "iopub.execute_input": "2021-09-20T21:12:56.986047Z",
     "iopub.status.busy": "2021-09-20T21:12:56.985033Z",
     "iopub.status.idle": "2021-09-20T21:12:56.998036Z",
     "shell.execute_reply": "2021-09-20T21:12:56.997281Z",
     "shell.execute_reply.started": "2021-09-20T21:11:41.300877Z"
    },
    "papermill": {
     "duration": 0.086904,
     "end_time": "2021-09-20T21:12:56.998216",
     "exception": false,
     "start_time": "2021-09-20T21:12:56.911312",
     "status": "completed"
    },
    "tags": []
   },
   "outputs": [
    {
     "name": "stdout",
     "output_type": "stream",
     "text": [
      "83.38945005611671\n",
      "94.25837320574163\n",
      "[[250  16]\n",
      " [  8 144]]\n",
      "              precision    recall  f1-score   support\n",
      "\n",
      "           0       0.97      0.94      0.95       266\n",
      "           1       0.90      0.95      0.92       152\n",
      "\n",
      "    accuracy                           0.94       418\n",
      "   macro avg       0.93      0.94      0.94       418\n",
      "weighted avg       0.94      0.94      0.94       418\n",
      "\n"
     ]
    }
   ],
   "source": [
    "tree_class.fit(X_train, y_train)\n",
    "y_pred = tree_class.predict(X_test)\n",
    "print(tree_class.score(X_train,y_train)*100)\n",
    "print(accuracy_score(y_test, y_pred)*100)\n",
    "print(confusion_matrix(y_test, y_pred))\n",
    "print(classification_report(y_test, y_pred))"
   ]
  },
  {
   "cell_type": "markdown",
   "id": "bbd4a1f7",
   "metadata": {
    "papermill": {
     "duration": 0.067868,
     "end_time": "2021-09-20T21:12:57.135497",
     "exception": false,
     "start_time": "2021-09-20T21:12:57.067629",
     "status": "completed"
    },
    "tags": []
   },
   "source": [
    "# ***Random Forest Classifier***"
   ]
  },
  {
   "cell_type": "code",
   "execution_count": 52,
   "id": "6aea57a5",
   "metadata": {
    "execution": {
     "iopub.execute_input": "2021-09-20T21:12:57.275502Z",
     "iopub.status.busy": "2021-09-20T21:12:57.274932Z",
     "iopub.status.idle": "2021-09-20T21:12:57.278401Z",
     "shell.execute_reply": "2021-09-20T21:12:57.278912Z",
     "shell.execute_reply.started": "2021-09-20T21:11:43.216219Z"
    },
    "papermill": {
     "duration": 0.075119,
     "end_time": "2021-09-20T21:12:57.279079",
     "exception": false,
     "start_time": "2021-09-20T21:12:57.203960",
     "status": "completed"
    },
    "tags": []
   },
   "outputs": [],
   "source": [
    "Random_class = RandomForestClassifier(n_estimators=100, criterion='gini', max_depth=3, random_state = 33)"
   ]
  },
  {
   "cell_type": "code",
   "execution_count": 53,
   "id": "524e32b2",
   "metadata": {
    "execution": {
     "iopub.execute_input": "2021-09-20T21:12:57.418351Z",
     "iopub.status.busy": "2021-09-20T21:12:57.417759Z",
     "iopub.status.idle": "2021-09-20T21:12:57.599399Z",
     "shell.execute_reply": "2021-09-20T21:12:57.600110Z",
     "shell.execute_reply.started": "2021-09-20T21:11:44.205300Z"
    },
    "papermill": {
     "duration": 0.253513,
     "end_time": "2021-09-20T21:12:57.600361",
     "exception": false,
     "start_time": "2021-09-20T21:12:57.346848",
     "status": "completed"
    },
    "tags": []
   },
   "outputs": [
    {
     "name": "stdout",
     "output_type": "stream",
     "text": [
      "81.03254769921436\n",
      "98.56459330143541\n",
      "[[265   1]\n",
      " [  5 147]]\n",
      "              precision    recall  f1-score   support\n",
      "\n",
      "           0       0.98      1.00      0.99       266\n",
      "           1       0.99      0.97      0.98       152\n",
      "\n",
      "    accuracy                           0.99       418\n",
      "   macro avg       0.99      0.98      0.98       418\n",
      "weighted avg       0.99      0.99      0.99       418\n",
      "\n"
     ]
    }
   ],
   "source": [
    "Random_class.fit(X_train, y_train)\n",
    "y_pred = Random_class.predict(X_test)\n",
    "print(Random_class.score(X_train,y_train)*100)\n",
    "print(accuracy_score(y_test, y_pred)*100)\n",
    "print(confusion_matrix(y_test, y_pred))\n",
    "print(classification_report(y_test, y_pred))"
   ]
  },
  {
   "cell_type": "markdown",
   "id": "e902ce43",
   "metadata": {
    "papermill": {
     "duration": 0.069835,
     "end_time": "2021-09-20T21:12:57.742592",
     "exception": false,
     "start_time": "2021-09-20T21:12:57.672757",
     "status": "completed"
    },
    "tags": []
   },
   "source": [
    "# ***Voting Classifier***"
   ]
  },
  {
   "cell_type": "code",
   "execution_count": 54,
   "id": "aa8b4615",
   "metadata": {
    "execution": {
     "iopub.execute_input": "2021-09-20T21:12:57.887581Z",
     "iopub.status.busy": "2021-09-20T21:12:57.885913Z",
     "iopub.status.idle": "2021-09-20T21:12:57.889316Z",
     "shell.execute_reply": "2021-09-20T21:12:57.889800Z",
     "shell.execute_reply.started": "2021-09-20T21:11:46.124066Z"
    },
    "papermill": {
     "duration": 0.076595,
     "end_time": "2021-09-20T21:12:57.889972",
     "exception": false,
     "start_time": "2021-09-20T21:12:57.813377",
     "status": "completed"
    },
    "tags": []
   },
   "outputs": [],
   "source": [
    "Voting_class = VotingClassifier(estimators=[('SVC_class', SVC_class),('tree_class', tree_class), ('logistig_model', logistic_model), ('Random_class', Random_class)], \n",
    "                                voting='hard')"
   ]
  },
  {
   "cell_type": "code",
   "execution_count": 55,
   "id": "d5fab7b4",
   "metadata": {
    "execution": {
     "iopub.execute_input": "2021-09-20T21:12:58.035211Z",
     "iopub.status.busy": "2021-09-20T21:12:58.032467Z",
     "iopub.status.idle": "2021-09-20T21:12:59.148867Z",
     "shell.execute_reply": "2021-09-20T21:12:59.148213Z",
     "shell.execute_reply.started": "2021-09-20T21:11:47.594902Z"
    },
    "papermill": {
     "duration": 1.189526,
     "end_time": "2021-09-20T21:12:59.149021",
     "exception": false,
     "start_time": "2021-09-20T21:12:57.959495",
     "status": "completed"
    },
    "tags": []
   },
   "outputs": [
    {
     "name": "stdout",
     "output_type": "stream",
     "text": [
      "81.03254769921436\n",
      "98.32535885167464\n",
      "[[265   1]\n",
      " [  6 146]]\n",
      "              precision    recall  f1-score   support\n",
      "\n",
      "           0       0.98      1.00      0.99       266\n",
      "           1       0.99      0.96      0.98       152\n",
      "\n",
      "    accuracy                           0.98       418\n",
      "   macro avg       0.99      0.98      0.98       418\n",
      "weighted avg       0.98      0.98      0.98       418\n",
      "\n"
     ]
    }
   ],
   "source": [
    "Voting_class.fit(X_train, y_train)\n",
    "y_pred = Voting_class.predict(X_test)\n",
    "print(Voting_class.score(X_train,y_train)*100)\n",
    "print(accuracy_score(y_test, y_pred)*100)\n",
    "print(confusion_matrix(y_test, y_pred))\n",
    "print(classification_report(y_test, y_pred))"
   ]
  },
  {
   "cell_type": "markdown",
   "id": "4fe87d9e",
   "metadata": {
    "papermill": {
     "duration": 0.071398,
     "end_time": "2021-09-20T21:12:59.291271",
     "exception": false,
     "start_time": "2021-09-20T21:12:59.219873",
     "status": "completed"
    },
    "tags": []
   },
   "source": [
    "# **Detecting Data imbalancing**"
   ]
  },
  {
   "cell_type": "code",
   "execution_count": 56,
   "id": "7537fc8b",
   "metadata": {
    "execution": {
     "iopub.execute_input": "2021-09-20T21:12:59.436892Z",
     "iopub.status.busy": "2021-09-20T21:12:59.436254Z",
     "iopub.status.idle": "2021-09-20T21:12:59.579151Z",
     "shell.execute_reply": "2021-09-20T21:12:59.578544Z",
     "shell.execute_reply.started": "2021-09-20T21:11:48.917055Z"
    },
    "papermill": {
     "duration": 0.217798,
     "end_time": "2021-09-20T21:12:59.579304",
     "exception": false,
     "start_time": "2021-09-20T21:12:59.361506",
     "status": "completed"
    },
    "tags": []
   },
   "outputs": [],
   "source": [
    "from imblearn.over_sampling import SMOTE\n",
    "sm = SMOTE(random_state=1)\n",
    "X_sm_train , y_sm_train = sm.fit_resample(X_train,y_train)\n",
    "X_sm_test , y_sm_test = sm.fit_resample(X_test,y_test)"
   ]
  },
  {
   "cell_type": "markdown",
   "id": "10374612",
   "metadata": {
    "papermill": {
     "duration": 0.06801,
     "end_time": "2021-09-20T21:12:59.718181",
     "exception": false,
     "start_time": "2021-09-20T21:12:59.650171",
     "status": "completed"
    },
    "tags": []
   },
   "source": [
    "# ***Logistic Regression After Scaling***"
   ]
  },
  {
   "cell_type": "code",
   "execution_count": 57,
   "id": "1e898f54",
   "metadata": {
    "execution": {
     "iopub.execute_input": "2021-09-20T21:12:59.864538Z",
     "iopub.status.busy": "2021-09-20T21:12:59.863586Z",
     "iopub.status.idle": "2021-09-20T21:12:59.866509Z",
     "shell.execute_reply": "2021-09-20T21:12:59.865928Z",
     "shell.execute_reply.started": "2021-09-20T21:11:50.485251Z"
    },
    "papermill": {
     "duration": 0.077535,
     "end_time": "2021-09-20T21:12:59.866661",
     "exception": false,
     "start_time": "2021-09-20T21:12:59.789126",
     "status": "completed"
    },
    "tags": []
   },
   "outputs": [],
   "source": [
    "logistic_model_2 = LogisticRegression(solver = 'liblinear')"
   ]
  },
  {
   "cell_type": "code",
   "execution_count": 58,
   "id": "420ce3a0",
   "metadata": {
    "execution": {
     "iopub.execute_input": "2021-09-20T21:13:00.016084Z",
     "iopub.status.busy": "2021-09-20T21:13:00.015306Z",
     "iopub.status.idle": "2021-09-20T21:13:00.045401Z",
     "shell.execute_reply": "2021-09-20T21:13:00.046366Z",
     "shell.execute_reply.started": "2021-09-20T21:11:51.193397Z"
    },
    "papermill": {
     "duration": 0.110505,
     "end_time": "2021-09-20T21:13:00.046754",
     "exception": false,
     "start_time": "2021-09-20T21:12:59.936249",
     "status": "completed"
    },
    "tags": []
   },
   "outputs": [
    {
     "name": "stdout",
     "output_type": "stream",
     "text": [
      "78.32422586520947\n",
      "92.66917293233082\n",
      "[[231  35]\n",
      " [  4 262]]\n",
      "              precision    recall  f1-score   support\n",
      "\n",
      "           0       0.98      0.87      0.92       266\n",
      "           1       0.88      0.98      0.93       266\n",
      "\n",
      "    accuracy                           0.93       532\n",
      "   macro avg       0.93      0.93      0.93       532\n",
      "weighted avg       0.93      0.93      0.93       532\n",
      "\n"
     ]
    }
   ],
   "source": [
    "logistic_model_2.fit(X_sm_train, y_sm_train)\n",
    "y_pred = logistic_model_2.predict(X_sm_test)\n",
    "print(logistic_model_2.score(X_sm_train,y_sm_train)*100)\n",
    "print(accuracy_score(y_sm_test, y_pred)*100)\n",
    "print(confusion_matrix(y_sm_test, y_pred))\n",
    "print(classification_report(y_sm_test, y_pred))"
   ]
  },
  {
   "cell_type": "markdown",
   "id": "001bfe55",
   "metadata": {
    "papermill": {
     "duration": 0.072232,
     "end_time": "2021-09-20T21:13:00.237016",
     "exception": false,
     "start_time": "2021-09-20T21:13:00.164784",
     "status": "completed"
    },
    "tags": []
   },
   "source": [
    "# ***SVC After Scaling***"
   ]
  },
  {
   "cell_type": "code",
   "execution_count": 59,
   "id": "6ccdd1c0",
   "metadata": {
    "execution": {
     "iopub.execute_input": "2021-09-20T21:13:00.397923Z",
     "iopub.status.busy": "2021-09-20T21:13:00.397343Z",
     "iopub.status.idle": "2021-09-20T21:13:00.400175Z",
     "shell.execute_reply": "2021-09-20T21:13:00.399742Z",
     "shell.execute_reply.started": "2021-09-20T21:11:53.469092Z"
    },
    "papermill": {
     "duration": 0.07998,
     "end_time": "2021-09-20T21:13:00.400336",
     "exception": false,
     "start_time": "2021-09-20T21:13:00.320356",
     "status": "completed"
    },
    "tags": []
   },
   "outputs": [],
   "source": [
    "SVC_class_2 = SVC(C = 0.1, kernel = 'linear')"
   ]
  },
  {
   "cell_type": "code",
   "execution_count": 60,
   "id": "2e83d6bf",
   "metadata": {
    "execution": {
     "iopub.execute_input": "2021-09-20T21:13:00.551004Z",
     "iopub.status.busy": "2021-09-20T21:13:00.550361Z",
     "iopub.status.idle": "2021-09-20T21:13:00.915405Z",
     "shell.execute_reply": "2021-09-20T21:13:00.914642Z",
     "shell.execute_reply.started": "2021-09-20T21:11:54.668990Z"
    },
    "papermill": {
     "duration": 0.443136,
     "end_time": "2021-09-20T21:13:00.915605",
     "exception": false,
     "start_time": "2021-09-20T21:13:00.472469",
     "status": "completed"
    },
    "tags": []
   },
   "outputs": [
    {
     "name": "stdout",
     "output_type": "stream",
     "text": [
      "77.59562841530054\n",
      "100.0\n",
      "[[266   0]\n",
      " [  0 266]]\n",
      "              precision    recall  f1-score   support\n",
      "\n",
      "           0       1.00      1.00      1.00       266\n",
      "           1       1.00      1.00      1.00       266\n",
      "\n",
      "    accuracy                           1.00       532\n",
      "   macro avg       1.00      1.00      1.00       532\n",
      "weighted avg       1.00      1.00      1.00       532\n",
      "\n"
     ]
    }
   ],
   "source": [
    "SVC_class_2.fit(X_sm_train, y_sm_train)\n",
    "y_pred = SVC_class_2.predict(X_sm_test)\n",
    "print(SVC_class_2.score(X_sm_train,y_sm_train)*100)\n",
    "print(accuracy_score(y_sm_test, y_pred)*100)\n",
    "print(confusion_matrix(y_sm_test, y_pred))\n",
    "print(classification_report(y_sm_test, y_pred))"
   ]
  },
  {
   "cell_type": "markdown",
   "id": "045ff404",
   "metadata": {
    "papermill": {
     "duration": 0.072121,
     "end_time": "2021-09-20T21:13:01.058115",
     "exception": false,
     "start_time": "2021-09-20T21:13:00.985994",
     "status": "completed"
    },
    "tags": []
   },
   "source": [
    "# ***Decision Tree Classifier After Scaling***"
   ]
  },
  {
   "cell_type": "code",
   "execution_count": 61,
   "id": "c062326b",
   "metadata": {
    "execution": {
     "iopub.execute_input": "2021-09-20T21:13:01.202725Z",
     "iopub.status.busy": "2021-09-20T21:13:01.201908Z",
     "iopub.status.idle": "2021-09-20T21:13:01.204093Z",
     "shell.execute_reply": "2021-09-20T21:13:01.204472Z",
     "shell.execute_reply.started": "2021-09-20T21:11:56.768771Z"
    },
    "papermill": {
     "duration": 0.07638,
     "end_time": "2021-09-20T21:13:01.204633",
     "exception": false,
     "start_time": "2021-09-20T21:13:01.128253",
     "status": "completed"
    },
    "tags": []
   },
   "outputs": [],
   "source": [
    "tree_class_2 = DecisionTreeClassifier(criterion='gini', max_depth=2, splitter='best', random_state=33)"
   ]
  },
  {
   "cell_type": "code",
   "execution_count": 62,
   "id": "8314cd60",
   "metadata": {
    "execution": {
     "iopub.execute_input": "2021-09-20T21:13:01.350745Z",
     "iopub.status.busy": "2021-09-20T21:13:01.349558Z",
     "iopub.status.idle": "2021-09-20T21:13:01.362629Z",
     "shell.execute_reply": "2021-09-20T21:13:01.362088Z",
     "shell.execute_reply.started": "2021-09-20T21:11:58.020804Z"
    },
    "papermill": {
     "duration": 0.088924,
     "end_time": "2021-09-20T21:13:01.362791",
     "exception": false,
     "start_time": "2021-09-20T21:13:01.273867",
     "status": "completed"
    },
    "tags": []
   },
   "outputs": [
    {
     "name": "stdout",
     "output_type": "stream",
     "text": [
      "79.05282331511839\n",
      "100.0\n",
      "[[266   0]\n",
      " [  0 266]]\n",
      "              precision    recall  f1-score   support\n",
      "\n",
      "           0       1.00      1.00      1.00       266\n",
      "           1       1.00      1.00      1.00       266\n",
      "\n",
      "    accuracy                           1.00       532\n",
      "   macro avg       1.00      1.00      1.00       532\n",
      "weighted avg       1.00      1.00      1.00       532\n",
      "\n"
     ]
    }
   ],
   "source": [
    "tree_class_2.fit(X_sm_train,y_sm_train)\n",
    "y_pred = tree_class_2.predict(X_sm_test)\n",
    "print(tree_class_2.score(X_sm_train,y_sm_train)*100)\n",
    "print(accuracy_score(y_sm_test, y_pred)*100)\n",
    "print(confusion_matrix(y_sm_test, y_pred))\n",
    "print(classification_report(y_sm_test, y_pred))"
   ]
  },
  {
   "cell_type": "markdown",
   "id": "de1d0892",
   "metadata": {
    "papermill": {
     "duration": 0.069021,
     "end_time": "2021-09-20T21:13:01.500998",
     "exception": false,
     "start_time": "2021-09-20T21:13:01.431977",
     "status": "completed"
    },
    "tags": []
   },
   "source": [
    "# ***Random Forest After Scaling***"
   ]
  },
  {
   "cell_type": "code",
   "execution_count": 63,
   "id": "76092c1c",
   "metadata": {
    "execution": {
     "iopub.execute_input": "2021-09-20T21:13:01.644918Z",
     "iopub.status.busy": "2021-09-20T21:13:01.644307Z",
     "iopub.status.idle": "2021-09-20T21:13:01.646547Z",
     "shell.execute_reply": "2021-09-20T21:13:01.645996Z",
     "shell.execute_reply.started": "2021-09-20T21:12:00.046869Z"
    },
    "papermill": {
     "duration": 0.076695,
     "end_time": "2021-09-20T21:13:01.646699",
     "exception": false,
     "start_time": "2021-09-20T21:13:01.570004",
     "status": "completed"
    },
    "tags": []
   },
   "outputs": [],
   "source": [
    "Random_class_2 = RandomForestClassifier(n_estimators=400, criterion='gini', max_depth=2, random_state = 33)"
   ]
  },
  {
   "cell_type": "code",
   "execution_count": 64,
   "id": "be6e6f9d",
   "metadata": {
    "execution": {
     "iopub.execute_input": "2021-09-20T21:13:01.797116Z",
     "iopub.status.busy": "2021-09-20T21:13:01.796068Z",
     "iopub.status.idle": "2021-09-20T21:13:02.504232Z",
     "shell.execute_reply": "2021-09-20T21:13:02.504709Z",
     "shell.execute_reply.started": "2021-09-20T21:12:01.132946Z"
    },
    "papermill": {
     "duration": 0.787774,
     "end_time": "2021-09-20T21:13:02.504875",
     "exception": false,
     "start_time": "2021-09-20T21:13:01.717101",
     "status": "completed"
    },
    "tags": []
   },
   "outputs": [
    {
     "name": "stdout",
     "output_type": "stream",
     "text": [
      "79.05282331511839\n",
      "100.0\n",
      "[[266   0]\n",
      " [  0 266]]\n",
      "              precision    recall  f1-score   support\n",
      "\n",
      "           0       1.00      1.00      1.00       266\n",
      "           1       1.00      1.00      1.00       266\n",
      "\n",
      "    accuracy                           1.00       532\n",
      "   macro avg       1.00      1.00      1.00       532\n",
      "weighted avg       1.00      1.00      1.00       532\n",
      "\n"
     ]
    }
   ],
   "source": [
    "Random_class_2.fit(X_sm_train,y_sm_train)\n",
    "y_pred = Random_class_2.predict(X_sm_test)\n",
    "print(Random_class_2.score(X_sm_train,y_sm_train)*100)\n",
    "print(accuracy_score(y_sm_test, y_pred)*100)\n",
    "print(confusion_matrix(y_sm_test, y_pred))\n",
    "print(classification_report(y_sm_test, y_pred))"
   ]
  },
  {
   "cell_type": "markdown",
   "id": "e090b337",
   "metadata": {
    "papermill": {
     "duration": 0.069728,
     "end_time": "2021-09-20T21:13:02.645359",
     "exception": false,
     "start_time": "2021-09-20T21:13:02.575631",
     "status": "completed"
    },
    "tags": []
   },
   "source": [
    "# ***Voting Classifier After Scaling***"
   ]
  },
  {
   "cell_type": "code",
   "execution_count": 65,
   "id": "357a29fb",
   "metadata": {
    "execution": {
     "iopub.execute_input": "2021-09-20T21:13:02.788184Z",
     "iopub.status.busy": "2021-09-20T21:13:02.786247Z",
     "iopub.status.idle": "2021-09-20T21:13:02.790921Z",
     "shell.execute_reply": "2021-09-20T21:13:02.790414Z",
     "shell.execute_reply.started": "2021-09-20T21:12:03.544133Z"
    },
    "papermill": {
     "duration": 0.076354,
     "end_time": "2021-09-20T21:13:02.791061",
     "exception": false,
     "start_time": "2021-09-20T21:13:02.714707",
     "status": "completed"
    },
    "tags": []
   },
   "outputs": [],
   "source": [
    "Voting_class_2 = VotingClassifier(estimators=[('tree_class', tree_class_2), ('logistig_model', logistic_model_2), ('SVC_class_2', SVC_class_2), ('Random_class', Random_class_2)], \n",
    "                                voting='hard')"
   ]
  },
  {
   "cell_type": "code",
   "execution_count": 66,
   "id": "ad0d5e1f",
   "metadata": {
    "execution": {
     "iopub.execute_input": "2021-09-20T21:13:02.937777Z",
     "iopub.status.busy": "2021-09-20T21:13:02.936878Z",
     "iopub.status.idle": "2021-09-20T21:13:04.053639Z",
     "shell.execute_reply": "2021-09-20T21:13:04.053052Z",
     "shell.execute_reply.started": "2021-09-20T21:12:04.818355Z"
    },
    "papermill": {
     "duration": 1.191906,
     "end_time": "2021-09-20T21:13:04.053794",
     "exception": false,
     "start_time": "2021-09-20T21:13:02.861888",
     "status": "completed"
    },
    "tags": []
   },
   "outputs": [
    {
     "name": "stdout",
     "output_type": "stream",
     "text": [
      "77.8688524590164\n",
      "100.0\n",
      "[[266   0]\n",
      " [  0 266]]\n",
      "              precision    recall  f1-score   support\n",
      "\n",
      "           0       1.00      1.00      1.00       266\n",
      "           1       1.00      1.00      1.00       266\n",
      "\n",
      "    accuracy                           1.00       532\n",
      "   macro avg       1.00      1.00      1.00       532\n",
      "weighted avg       1.00      1.00      1.00       532\n",
      "\n"
     ]
    }
   ],
   "source": [
    "Voting_class_2.fit(X_sm_train,y_sm_train)\n",
    "y_pred = Voting_class_2.predict(X_sm_test)\n",
    "print(Voting_class_2.score(X_sm_train,y_sm_train)*100)\n",
    "print(accuracy_score(y_sm_test, y_pred)*100)\n",
    "print(confusion_matrix(y_sm_test, y_pred))\n",
    "print(classification_report(y_sm_test, y_pred))"
   ]
  },
  {
   "cell_type": "markdown",
   "id": "b9525cfd",
   "metadata": {
    "papermill": {
     "duration": 0.069175,
     "end_time": "2021-09-20T21:13:04.192398",
     "exception": false,
     "start_time": "2021-09-20T21:13:04.123223",
     "status": "completed"
    },
    "tags": []
   },
   "source": [
    "# ***Now we will compare between the best algorithm before scalling and the best after scalling***"
   ]
  },
  {
   "cell_type": "code",
   "execution_count": 67,
   "id": "2a28a9ec",
   "metadata": {
    "execution": {
     "iopub.execute_input": "2021-09-20T21:13:04.360181Z",
     "iopub.status.busy": "2021-09-20T21:13:04.359500Z",
     "iopub.status.idle": "2021-09-20T21:13:04.377706Z",
     "shell.execute_reply": "2021-09-20T21:13:04.378154Z",
     "shell.execute_reply.started": "2021-09-20T21:12:07.813468Z"
    },
    "papermill": {
     "duration": 0.1157,
     "end_time": "2021-09-20T21:13:04.378324",
     "exception": false,
     "start_time": "2021-09-20T21:13:04.262624",
     "status": "completed"
    },
    "tags": []
   },
   "outputs": [
    {
     "name": "stdout",
     "output_type": "stream",
     "text": [
      "The classification report for the best model before scalling\n",
      ".....................SVC classifier.........................\n",
      "              precision    recall  f1-score   support\n",
      "\n",
      "           0       1.00      1.00      1.00       266\n",
      "           1       1.00      1.00      1.00       152\n",
      "\n",
      "    accuracy                           1.00       418\n",
      "   macro avg       1.00      1.00      1.00       418\n",
      "weighted avg       1.00      1.00      1.00       418\n",
      "\n",
      "\n",
      ".................Decision Tree Classifier...................\n",
      "The classification report for the best model after scalling\n",
      "              precision    recall  f1-score   support\n",
      "\n",
      "           0       1.00      1.00      1.00       266\n",
      "           1       1.00      1.00      1.00       266\n",
      "\n",
      "    accuracy                           1.00       532\n",
      "   macro avg       1.00      1.00      1.00       532\n",
      "weighted avg       1.00      1.00      1.00       532\n",
      "\n"
     ]
    }
   ],
   "source": [
    "print('The classification report for the best model before scalling')\n",
    "print('.....................SVC classifier.........................')\n",
    "print(classification_report(y_test,SVC_class.predict(X_test)))\n",
    "print()\n",
    "print('.................Decision Tree Classifier...................')\n",
    "print('The classification report for the best model after scalling')\n",
    "print(classification_report(y_sm_test, tree_class_2.predict(X_sm_test)))"
   ]
  },
  {
   "cell_type": "markdown",
   "id": "46f3a617",
   "metadata": {
    "papermill": {
     "duration": 0.069799,
     "end_time": "2021-09-20T21:13:04.525136",
     "exception": false,
     "start_time": "2021-09-20T21:13:04.455337",
     "status": "completed"
    },
    "tags": []
   },
   "source": [
    "**In the end, we found SVC and Decision tree is the best algorithm.**<br>\n",
    "**with accurecy score = 100.00 %**<br>\n",
    "**and with f1_score = 100.00 %**<br>"
   ]
  }
 ],
 "metadata": {
  "kernelspec": {
   "display_name": "Python 3",
   "language": "python",
   "name": "python3"
  },
  "language_info": {
   "codemirror_mode": {
    "name": "ipython",
    "version": 3
   },
   "file_extension": ".py",
   "mimetype": "text/x-python",
   "name": "python",
   "nbconvert_exporter": "python",
   "pygments_lexer": "ipython3",
   "version": "3.7.10"
  },
  "papermill": {
   "default_parameters": {},
   "duration": 32.901185,
   "end_time": "2021-09-20T21:13:06.009879",
   "environment_variables": {},
   "exception": null,
   "input_path": "__notebook__.ipynb",
   "output_path": "__notebook__.ipynb",
   "parameters": {},
   "start_time": "2021-09-20T21:12:33.108694",
   "version": "2.3.3"
  }
 },
 "nbformat": 4,
 "nbformat_minor": 5
}
